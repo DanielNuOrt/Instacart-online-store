{
 "cells": [
  {
   "cell_type": "markdown",
   "id": "38d434cc",
   "metadata": {},
   "source": [
    "# 4.6: Combining & Exporting Data (part 2)"
   ]
  },
  {
   "cell_type": "markdown",
   "id": "a7e2773d",
   "metadata": {},
   "source": [
    "### 1. Import Libraries: Pandas, Numpy, Os"
   ]
  },
  {
   "cell_type": "code",
   "execution_count": 13,
   "id": "0bef6ecc",
   "metadata": {},
   "outputs": [],
   "source": [
    "#Import libraries\n",
    "import pandas as pd\n",
    "import numpy as np\n",
    "import os"
   ]
  },
  {
   "cell_type": "markdown",
   "id": "4e4f4fe7",
   "metadata": {},
   "source": [
    "### 2. Create path to 'Prepared data'"
   ]
  },
  {
   "cell_type": "code",
   "execution_count": 14,
   "id": "0878e682",
   "metadata": {},
   "outputs": [],
   "source": [
    "# Create path to Prepared data folder\n",
    "path_prepared = r'C:\\Users\\danie\\Desktop\\career Foundry\\31-03-2023 Instacart Basket Analysis\\02 Data\\Prepared data'"
   ]
  },
  {
   "cell_type": "markdown",
   "id": "13e224e2",
   "metadata": {},
   "source": [
    "### 3. Import DataFrame, Pickle file (.pkl)"
   ]
  },
  {
   "cell_type": "code",
   "execution_count": 15,
   "id": "521a0e7d",
   "metadata": {},
   "outputs": [],
   "source": [
    "# Import .pkl file\n",
    "df_merged_large = pd.read_pickle(os.path.join(path_prepared, 'orders_products_combined.pkl')) "
   ]
  },
  {
   "cell_type": "markdown",
   "id": "c11ee214",
   "metadata": {},
   "source": [
    "#### 4. Check columns & shape"
   ]
  },
  {
   "cell_type": "code",
   "execution_count": 16,
   "id": "e3f982c6",
   "metadata": {},
   "outputs": [
    {
     "data": {
      "text/html": [
       "<div>\n",
       "<style scoped>\n",
       "    .dataframe tbody tr th:only-of-type {\n",
       "        vertical-align: middle;\n",
       "    }\n",
       "\n",
       "    .dataframe tbody tr th {\n",
       "        vertical-align: top;\n",
       "    }\n",
       "\n",
       "    .dataframe thead th {\n",
       "        text-align: right;\n",
       "    }\n",
       "</style>\n",
       "<table border=\"1\" class=\"dataframe\">\n",
       "  <thead>\n",
       "    <tr style=\"text-align: right;\">\n",
       "      <th></th>\n",
       "      <th>Unnamed: 0</th>\n",
       "      <th>order_id</th>\n",
       "      <th>user_id</th>\n",
       "      <th>order_number</th>\n",
       "      <th>orders_day_of_the_week</th>\n",
       "      <th>order_hour_of_day</th>\n",
       "      <th>days_since_prior_order</th>\n",
       "      <th>product_id</th>\n",
       "      <th>add_to_cart_order</th>\n",
       "      <th>reordered</th>\n",
       "      <th>_merge</th>\n",
       "    </tr>\n",
       "  </thead>\n",
       "  <tbody>\n",
       "    <tr>\n",
       "      <th>0</th>\n",
       "      <td>0</td>\n",
       "      <td>2539329</td>\n",
       "      <td>1</td>\n",
       "      <td>1</td>\n",
       "      <td>Monday</td>\n",
       "      <td>8</td>\n",
       "      <td>0.0</td>\n",
       "      <td>196</td>\n",
       "      <td>1</td>\n",
       "      <td>0</td>\n",
       "      <td>both</td>\n",
       "    </tr>\n",
       "    <tr>\n",
       "      <th>1</th>\n",
       "      <td>0</td>\n",
       "      <td>2539329</td>\n",
       "      <td>1</td>\n",
       "      <td>1</td>\n",
       "      <td>Monday</td>\n",
       "      <td>8</td>\n",
       "      <td>0.0</td>\n",
       "      <td>14084</td>\n",
       "      <td>2</td>\n",
       "      <td>0</td>\n",
       "      <td>both</td>\n",
       "    </tr>\n",
       "    <tr>\n",
       "      <th>2</th>\n",
       "      <td>0</td>\n",
       "      <td>2539329</td>\n",
       "      <td>1</td>\n",
       "      <td>1</td>\n",
       "      <td>Monday</td>\n",
       "      <td>8</td>\n",
       "      <td>0.0</td>\n",
       "      <td>12427</td>\n",
       "      <td>3</td>\n",
       "      <td>0</td>\n",
       "      <td>both</td>\n",
       "    </tr>\n",
       "    <tr>\n",
       "      <th>3</th>\n",
       "      <td>0</td>\n",
       "      <td>2539329</td>\n",
       "      <td>1</td>\n",
       "      <td>1</td>\n",
       "      <td>Monday</td>\n",
       "      <td>8</td>\n",
       "      <td>0.0</td>\n",
       "      <td>26088</td>\n",
       "      <td>4</td>\n",
       "      <td>0</td>\n",
       "      <td>both</td>\n",
       "    </tr>\n",
       "    <tr>\n",
       "      <th>4</th>\n",
       "      <td>0</td>\n",
       "      <td>2539329</td>\n",
       "      <td>1</td>\n",
       "      <td>1</td>\n",
       "      <td>Monday</td>\n",
       "      <td>8</td>\n",
       "      <td>0.0</td>\n",
       "      <td>26405</td>\n",
       "      <td>5</td>\n",
       "      <td>0</td>\n",
       "      <td>both</td>\n",
       "    </tr>\n",
       "  </tbody>\n",
       "</table>\n",
       "</div>"
      ],
      "text/plain": [
       "   Unnamed: 0  order_id  user_id  order_number orders_day_of_the_week  \\\n",
       "0           0   2539329        1             1                 Monday   \n",
       "1           0   2539329        1             1                 Monday   \n",
       "2           0   2539329        1             1                 Monday   \n",
       "3           0   2539329        1             1                 Monday   \n",
       "4           0   2539329        1             1                 Monday   \n",
       "\n",
       "   order_hour_of_day  days_since_prior_order  product_id  add_to_cart_order  \\\n",
       "0                  8                     0.0         196                  1   \n",
       "1                  8                     0.0       14084                  2   \n",
       "2                  8                     0.0       12427                  3   \n",
       "3                  8                     0.0       26088                  4   \n",
       "4                  8                     0.0       26405                  5   \n",
       "\n",
       "   reordered _merge  \n",
       "0          0   both  \n",
       "1          0   both  \n",
       "2          0   both  \n",
       "3          0   both  \n",
       "4          0   both  "
      ]
     },
     "execution_count": 16,
     "metadata": {},
     "output_type": "execute_result"
    }
   ],
   "source": [
    "# Check dataframe with '.head()'\n",
    "df_merged_large.head()"
   ]
  },
  {
   "cell_type": "code",
   "execution_count": 17,
   "id": "febc1f20",
   "metadata": {},
   "outputs": [
    {
     "data": {
      "text/plain": [
       "(32434489, 11)"
      ]
     },
     "execution_count": 17,
     "metadata": {},
     "output_type": "execute_result"
    }
   ],
   "source": [
    "# Check dataframe shape\n",
    "df_merged_large.shape"
   ]
  },
  {
   "cell_type": "markdown",
   "id": "e12ae25d",
   "metadata": {},
   "source": [
    "The shape of the file 'orders_products_combined.pkl' imported match with the shape of the file previously exported in the last exercise."
   ]
  },
  {
   "cell_type": "markdown",
   "id": "e1f6993f",
   "metadata": {},
   "source": [
    "#### 5. Import dataframe 'products' to merge & Check shape"
   ]
  },
  {
   "cell_type": "code",
   "execution_count": 18,
   "id": "d3124ec2",
   "metadata": {},
   "outputs": [],
   "source": [
    "#Import 'products_checked.csv' from 'Prepared data' folder\n",
    "df_prods = pd.read_csv(os.path.join(path_prepared, 'products_checked.csv'))"
   ]
  },
  {
   "cell_type": "code",
   "execution_count": 19,
   "id": "9676043d",
   "metadata": {},
   "outputs": [
    {
     "data": {
      "text/plain": [
       "(49672, 6)"
      ]
     },
     "execution_count": 19,
     "metadata": {},
     "output_type": "execute_result"
    }
   ],
   "source": [
    "df_prods.shape"
   ]
  },
  {
   "cell_type": "markdown",
   "id": "eb35c64c",
   "metadata": {},
   "source": [
    "#### 6. Run merge tests"
   ]
  },
  {
   "cell_type": "markdown",
   "id": "f665fd7c",
   "metadata": {},
   "source": [
    "#.merge test with '.., how = outer, left, right, inner join' conditions has been checked before procceding to the next step."
   ]
  },
  {
   "cell_type": "markdown",
   "id": "4cd8b65e",
   "metadata": {},
   "source": [
    "#### 7. Merge DataFrames"
   ]
  },
  {
   "cell_type": "code",
   "execution_count": 20,
   "id": "cb899ae3",
   "metadata": {},
   "outputs": [],
   "source": [
    "# Merge df_merged_large & df_prods\n",
    "df_ords_prods_merged = df_merged_large.merge(df_prods, on = 'product_id', how = 'inner')"
   ]
  },
  {
   "cell_type": "code",
   "execution_count": 21,
   "id": "50175ea0",
   "metadata": {},
   "outputs": [
    {
     "data": {
      "text/html": [
       "<div>\n",
       "<style scoped>\n",
       "    .dataframe tbody tr th:only-of-type {\n",
       "        vertical-align: middle;\n",
       "    }\n",
       "\n",
       "    .dataframe tbody tr th {\n",
       "        vertical-align: top;\n",
       "    }\n",
       "\n",
       "    .dataframe thead th {\n",
       "        text-align: right;\n",
       "    }\n",
       "</style>\n",
       "<table border=\"1\" class=\"dataframe\">\n",
       "  <thead>\n",
       "    <tr style=\"text-align: right;\">\n",
       "      <th></th>\n",
       "      <th>Unnamed: 0_x</th>\n",
       "      <th>order_id</th>\n",
       "      <th>user_id</th>\n",
       "      <th>order_number</th>\n",
       "      <th>orders_day_of_the_week</th>\n",
       "      <th>order_hour_of_day</th>\n",
       "      <th>days_since_prior_order</th>\n",
       "      <th>product_id</th>\n",
       "      <th>add_to_cart_order</th>\n",
       "      <th>reordered</th>\n",
       "      <th>_merge</th>\n",
       "      <th>Unnamed: 0_y</th>\n",
       "      <th>product_name</th>\n",
       "      <th>aisle_id</th>\n",
       "      <th>department_id</th>\n",
       "      <th>prices</th>\n",
       "    </tr>\n",
       "  </thead>\n",
       "  <tbody>\n",
       "    <tr>\n",
       "      <th>0</th>\n",
       "      <td>0</td>\n",
       "      <td>2539329</td>\n",
       "      <td>1</td>\n",
       "      <td>1</td>\n",
       "      <td>Monday</td>\n",
       "      <td>8</td>\n",
       "      <td>0.0</td>\n",
       "      <td>196</td>\n",
       "      <td>1</td>\n",
       "      <td>0</td>\n",
       "      <td>both</td>\n",
       "      <td>195</td>\n",
       "      <td>Soda</td>\n",
       "      <td>77</td>\n",
       "      <td>7</td>\n",
       "      <td>9.0</td>\n",
       "    </tr>\n",
       "    <tr>\n",
       "      <th>1</th>\n",
       "      <td>1</td>\n",
       "      <td>2398795</td>\n",
       "      <td>1</td>\n",
       "      <td>2</td>\n",
       "      <td>Tuesday</td>\n",
       "      <td>7</td>\n",
       "      <td>15.0</td>\n",
       "      <td>196</td>\n",
       "      <td>1</td>\n",
       "      <td>1</td>\n",
       "      <td>both</td>\n",
       "      <td>195</td>\n",
       "      <td>Soda</td>\n",
       "      <td>77</td>\n",
       "      <td>7</td>\n",
       "      <td>9.0</td>\n",
       "    </tr>\n",
       "    <tr>\n",
       "      <th>2</th>\n",
       "      <td>2</td>\n",
       "      <td>473747</td>\n",
       "      <td>1</td>\n",
       "      <td>3</td>\n",
       "      <td>Tuesday</td>\n",
       "      <td>12</td>\n",
       "      <td>21.0</td>\n",
       "      <td>196</td>\n",
       "      <td>1</td>\n",
       "      <td>1</td>\n",
       "      <td>both</td>\n",
       "      <td>195</td>\n",
       "      <td>Soda</td>\n",
       "      <td>77</td>\n",
       "      <td>7</td>\n",
       "      <td>9.0</td>\n",
       "    </tr>\n",
       "    <tr>\n",
       "      <th>3</th>\n",
       "      <td>3</td>\n",
       "      <td>2254736</td>\n",
       "      <td>1</td>\n",
       "      <td>4</td>\n",
       "      <td>Wednesday</td>\n",
       "      <td>7</td>\n",
       "      <td>29.0</td>\n",
       "      <td>196</td>\n",
       "      <td>1</td>\n",
       "      <td>1</td>\n",
       "      <td>both</td>\n",
       "      <td>195</td>\n",
       "      <td>Soda</td>\n",
       "      <td>77</td>\n",
       "      <td>7</td>\n",
       "      <td>9.0</td>\n",
       "    </tr>\n",
       "    <tr>\n",
       "      <th>4</th>\n",
       "      <td>4</td>\n",
       "      <td>431534</td>\n",
       "      <td>1</td>\n",
       "      <td>5</td>\n",
       "      <td>Wednesday</td>\n",
       "      <td>15</td>\n",
       "      <td>28.0</td>\n",
       "      <td>196</td>\n",
       "      <td>1</td>\n",
       "      <td>1</td>\n",
       "      <td>both</td>\n",
       "      <td>195</td>\n",
       "      <td>Soda</td>\n",
       "      <td>77</td>\n",
       "      <td>7</td>\n",
       "      <td>9.0</td>\n",
       "    </tr>\n",
       "    <tr>\n",
       "      <th>...</th>\n",
       "      <td>...</td>\n",
       "      <td>...</td>\n",
       "      <td>...</td>\n",
       "      <td>...</td>\n",
       "      <td>...</td>\n",
       "      <td>...</td>\n",
       "      <td>...</td>\n",
       "      <td>...</td>\n",
       "      <td>...</td>\n",
       "      <td>...</td>\n",
       "      <td>...</td>\n",
       "      <td>...</td>\n",
       "      <td>...</td>\n",
       "      <td>...</td>\n",
       "      <td>...</td>\n",
       "      <td>...</td>\n",
       "    </tr>\n",
       "    <tr>\n",
       "      <th>32404854</th>\n",
       "      <td>3360493</td>\n",
       "      <td>1320836</td>\n",
       "      <td>202557</td>\n",
       "      <td>17</td>\n",
       "      <td>Monday</td>\n",
       "      <td>15</td>\n",
       "      <td>1.0</td>\n",
       "      <td>43553</td>\n",
       "      <td>2</td>\n",
       "      <td>1</td>\n",
       "      <td>both</td>\n",
       "      <td>43557</td>\n",
       "      <td>Orange Energy Shots</td>\n",
       "      <td>64</td>\n",
       "      <td>7</td>\n",
       "      <td>3.7</td>\n",
       "    </tr>\n",
       "    <tr>\n",
       "      <th>32404855</th>\n",
       "      <td>3360494</td>\n",
       "      <td>31526</td>\n",
       "      <td>202557</td>\n",
       "      <td>18</td>\n",
       "      <td>Thursday</td>\n",
       "      <td>11</td>\n",
       "      <td>3.0</td>\n",
       "      <td>43553</td>\n",
       "      <td>2</td>\n",
       "      <td>1</td>\n",
       "      <td>both</td>\n",
       "      <td>43557</td>\n",
       "      <td>Orange Energy Shots</td>\n",
       "      <td>64</td>\n",
       "      <td>7</td>\n",
       "      <td>3.7</td>\n",
       "    </tr>\n",
       "    <tr>\n",
       "      <th>32404856</th>\n",
       "      <td>3376038</td>\n",
       "      <td>758936</td>\n",
       "      <td>203436</td>\n",
       "      <td>1</td>\n",
       "      <td>Monday</td>\n",
       "      <td>7</td>\n",
       "      <td>0.0</td>\n",
       "      <td>42338</td>\n",
       "      <td>4</td>\n",
       "      <td>0</td>\n",
       "      <td>both</td>\n",
       "      <td>42342</td>\n",
       "      <td>Zucchini Chips, Pesto</td>\n",
       "      <td>50</td>\n",
       "      <td>19</td>\n",
       "      <td>6.9</td>\n",
       "    </tr>\n",
       "    <tr>\n",
       "      <th>32404857</th>\n",
       "      <td>3376039</td>\n",
       "      <td>2745165</td>\n",
       "      <td>203436</td>\n",
       "      <td>2</td>\n",
       "      <td>Tuesday</td>\n",
       "      <td>5</td>\n",
       "      <td>15.0</td>\n",
       "      <td>42338</td>\n",
       "      <td>16</td>\n",
       "      <td>1</td>\n",
       "      <td>both</td>\n",
       "      <td>42342</td>\n",
       "      <td>Zucchini Chips, Pesto</td>\n",
       "      <td>50</td>\n",
       "      <td>19</td>\n",
       "      <td>6.9</td>\n",
       "    </tr>\n",
       "    <tr>\n",
       "      <th>32404858</th>\n",
       "      <td>3408036</td>\n",
       "      <td>3093936</td>\n",
       "      <td>205420</td>\n",
       "      <td>1</td>\n",
       "      <td>Wednesday</td>\n",
       "      <td>14</td>\n",
       "      <td>0.0</td>\n",
       "      <td>28818</td>\n",
       "      <td>8</td>\n",
       "      <td>0</td>\n",
       "      <td>both</td>\n",
       "      <td>28820</td>\n",
       "      <td>Hot Oatmeal Multigrain Raisin</td>\n",
       "      <td>130</td>\n",
       "      <td>14</td>\n",
       "      <td>10.3</td>\n",
       "    </tr>\n",
       "  </tbody>\n",
       "</table>\n",
       "<p>32404859 rows × 16 columns</p>\n",
       "</div>"
      ],
      "text/plain": [
       "          Unnamed: 0_x  order_id  user_id  order_number  \\\n",
       "0                    0   2539329        1             1   \n",
       "1                    1   2398795        1             2   \n",
       "2                    2    473747        1             3   \n",
       "3                    3   2254736        1             4   \n",
       "4                    4    431534        1             5   \n",
       "...                ...       ...      ...           ...   \n",
       "32404854       3360493   1320836   202557            17   \n",
       "32404855       3360494     31526   202557            18   \n",
       "32404856       3376038    758936   203436             1   \n",
       "32404857       3376039   2745165   203436             2   \n",
       "32404858       3408036   3093936   205420             1   \n",
       "\n",
       "         orders_day_of_the_week  order_hour_of_day  days_since_prior_order  \\\n",
       "0                        Monday                  8                     0.0   \n",
       "1                       Tuesday                  7                    15.0   \n",
       "2                       Tuesday                 12                    21.0   \n",
       "3                     Wednesday                  7                    29.0   \n",
       "4                     Wednesday                 15                    28.0   \n",
       "...                         ...                ...                     ...   \n",
       "32404854                 Monday                 15                     1.0   \n",
       "32404855               Thursday                 11                     3.0   \n",
       "32404856                 Monday                  7                     0.0   \n",
       "32404857                Tuesday                  5                    15.0   \n",
       "32404858              Wednesday                 14                     0.0   \n",
       "\n",
       "          product_id  add_to_cart_order  reordered _merge  Unnamed: 0_y  \\\n",
       "0                196                  1          0   both           195   \n",
       "1                196                  1          1   both           195   \n",
       "2                196                  1          1   both           195   \n",
       "3                196                  1          1   both           195   \n",
       "4                196                  1          1   both           195   \n",
       "...              ...                ...        ...    ...           ...   \n",
       "32404854       43553                  2          1   both         43557   \n",
       "32404855       43553                  2          1   both         43557   \n",
       "32404856       42338                  4          0   both         42342   \n",
       "32404857       42338                 16          1   both         42342   \n",
       "32404858       28818                  8          0   both         28820   \n",
       "\n",
       "                           product_name  aisle_id  department_id  prices  \n",
       "0                                  Soda        77              7     9.0  \n",
       "1                                  Soda        77              7     9.0  \n",
       "2                                  Soda        77              7     9.0  \n",
       "3                                  Soda        77              7     9.0  \n",
       "4                                  Soda        77              7     9.0  \n",
       "...                                 ...       ...            ...     ...  \n",
       "32404854            Orange Energy Shots        64              7     3.7  \n",
       "32404855            Orange Energy Shots        64              7     3.7  \n",
       "32404856          Zucchini Chips, Pesto        50             19     6.9  \n",
       "32404857          Zucchini Chips, Pesto        50             19     6.9  \n",
       "32404858  Hot Oatmeal Multigrain Raisin       130             14    10.3  \n",
       "\n",
       "[32404859 rows x 16 columns]"
      ]
     },
     "execution_count": 21,
     "metadata": {},
     "output_type": "execute_result"
    }
   ],
   "source": [
    "df_ords_prods_merged"
   ]
  },
  {
   "cell_type": "markdown",
   "id": "a79bbd1d",
   "metadata": {},
   "source": [
    "The outcome from running a test \".merge(... how = 'outer')\" show a numerous empty values that appear to be unsold items or untracked sales during the time the 'Orders' data was recorded.\n",
    "\n",
    "Therefore, a merge with inner join is the most suitable options for the integrity of our data.\n",
    "\n",
    "Succefully merged dataframes.\n",
    "There are two unnamed columns in the df."
   ]
  },
  {
   "cell_type": "markdown",
   "id": "ce668630",
   "metadata": {},
   "source": [
    "#### 8. Use merge flag"
   ]
  },
  {
   "cell_type": "code",
   "execution_count": 22,
   "id": "7de7181c",
   "metadata": {},
   "outputs": [
    {
     "data": {
      "text/plain": [
       "both          32404859\n",
       "left_only            0\n",
       "right_only           0\n",
       "Name: _merge, dtype: int64"
      ]
     },
     "execution_count": 22,
     "metadata": {},
     "output_type": "execute_result"
    }
   ],
   "source": [
    "# Merge flag\n",
    "df_ords_prods_merged['_merge'].value_counts()"
   ]
  },
  {
   "cell_type": "markdown",
   "id": "a057c323",
   "metadata": {},
   "source": [
    "##### Look for empty values"
   ]
  },
  {
   "cell_type": "code",
   "execution_count": 23,
   "id": "af6e1104",
   "metadata": {},
   "outputs": [
    {
     "data": {
      "text/plain": [
       "Unnamed: 0_x              0\n",
       "order_id                  0\n",
       "user_id                   0\n",
       "order_number              0\n",
       "orders_day_of_the_week    0\n",
       "order_hour_of_day         0\n",
       "days_since_prior_order    0\n",
       "product_id                0\n",
       "add_to_cart_order         0\n",
       "reordered                 0\n",
       "_merge                    0\n",
       "Unnamed: 0_y              0\n",
       "product_name              0\n",
       "aisle_id                  0\n",
       "department_id             0\n",
       "prices                    0\n",
       "dtype: int64"
      ]
     },
     "execution_count": 23,
     "metadata": {},
     "output_type": "execute_result"
    }
   ],
   "source": [
    "# Finding missing values\n",
    "df_ords_prods_merged.isnull().sum()"
   ]
  },
  {
   "cell_type": "markdown",
   "id": "7ccaf4a1",
   "metadata": {},
   "source": [
    "No NULL values in the entire data frame."
   ]
  },
  {
   "cell_type": "markdown",
   "id": "3d4c178f",
   "metadata": {},
   "source": [
    "### 9. Export the merge final DataFrame"
   ]
  },
  {
   "cell_type": "code",
   "execution_count": 24,
   "id": "a822d174",
   "metadata": {},
   "outputs": [],
   "source": [
    "# Export data frame in a suitable format, keep in mind the size of the data\n",
    "df_ords_prods_merged.to_pickle(os.path.join(path_prepared, 'orders_products_merged.pkl'))"
   ]
  }
 ],
 "metadata": {
  "kernelspec": {
   "display_name": "Python 3 (ipykernel)",
   "language": "python",
   "name": "python3"
  },
  "language_info": {
   "codemirror_mode": {
    "name": "ipython",
    "version": 3
   },
   "file_extension": ".py",
   "mimetype": "text/x-python",
   "name": "python",
   "nbconvert_exporter": "python",
   "pygments_lexer": "ipython3",
   "version": "3.9.12"
  }
 },
 "nbformat": 4,
 "nbformat_minor": 5
}

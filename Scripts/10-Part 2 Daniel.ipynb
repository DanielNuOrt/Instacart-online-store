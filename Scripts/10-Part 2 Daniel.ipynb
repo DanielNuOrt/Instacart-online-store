{
 "cells": [
  {
   "cell_type": "code",
   "execution_count": null,
   "id": "2f148eb4",
   "metadata": {},
   "outputs": [],
   "source": [
    "#Import Libraries\n",
    "\n",
    "import pandas as pd\n",
    "import numpy as np\n",
    "import os\n",
    "import matplotlib.pyplot as plt\n",
    "import seaborn as sns\n",
    "import scipy\n",
    "import time\n",
    "\n",
    "start_time = time.time()"
   ]
  },
  {
   "cell_type": "code",
   "execution_count": null,
   "id": "18397105",
   "metadata": {},
   "outputs": [],
   "source": [
    "# Create path to Prepared data folder\n",
    "path_prepared = r'C:\\Users\\danie\\Desktop\\career Foundry\\31-03-2023 Instacart Basket Analysis\\02 Data\\Prepared data'"
   ]
  },
  {
   "cell_type": "code",
   "execution_count": null,
   "id": "41d491ee",
   "metadata": {},
   "outputs": [],
   "source": [
    "# Create path to 'Visualizations' folder\n",
    "path_visualizations = r'C:\\Users\\danie\\Desktop\\career Foundry\\31-03-2023 Instacart Basket Analysis\\04 Analysis\\Visualizations'"
   ]
  },
  {
   "cell_type": "code",
   "execution_count": null,
   "id": "61a5442a",
   "metadata": {},
   "outputs": [],
   "source": [
    "# Create path to Original data folder\n",
    "path_original = r'C:\\Users\\danie\\Desktop\\career Foundry\\31-03-2023 Instacart Basket Analysis\\02 Data\\Original data'"
   ]
  },
  {
   "cell_type": "code",
   "execution_count": null,
   "id": "4d7d8882",
   "metadata": {},
   "outputs": [],
   "source": [
    "# Import Instacart_data_set file\n",
    "df_final = pd.read_pickle(os.path.join(path_prepared, 'instacart_data_set.pkl'))"
   ]
  },
  {
   "cell_type": "code",
   "execution_count": null,
   "id": "11924ce7",
   "metadata": {},
   "outputs": [],
   "source": [
    "df_final['spender_flag'].value_counts()"
   ]
  },
  {
   "cell_type": "code",
   "execution_count": null,
   "id": "16b4b7d6",
   "metadata": {},
   "outputs": [],
   "source": [
    "df_final.shape"
   ]
  },
  {
   "cell_type": "code",
   "execution_count": null,
   "id": "0b0c4d37",
   "metadata": {},
   "outputs": [],
   "source": [
    "# Removing PII data to address security implications\n",
    "\n",
    "df_final.drop(columns = ['first_name', 'surname'], inplace = True)"
   ]
  },
  {
   "cell_type": "code",
   "execution_count": null,
   "id": "f97ff593",
   "metadata": {},
   "outputs": [],
   "source": [
    "#Verifying columns removal\n",
    "\n",
    "df_final.columns"
   ]
  },
  {
   "cell_type": "markdown",
   "id": "845c5a88",
   "metadata": {},
   "source": [
    "## Busiest Days of the Week"
   ]
  },
  {
   "cell_type": "code",
   "execution_count": null,
   "id": "b898b7a0",
   "metadata": {},
   "outputs": [],
   "source": [
    "# Create a bar chart 'orders_day_of_the_week'\n",
    "busiest_days = df_final['orders_day_of_the_week'].value_counts().loc[['Monday', 'Tuesday', 'Wednesday', 'Thursday', 'Friday', 'Saturday', 'Sunday']]\n",
    "plt.rcParams['figure.figsize'] = [10, 5]\n",
    "plt.title('Busiest Days of the Week', fontweight = 'bold')\n",
    "plt.xlabel('Days of the Week')\n",
    "busiest_day = busiest_days.plot.bar(rot=0)"
   ]
  },
  {
   "cell_type": "code",
   "execution_count": null,
   "id": "25b546b4",
   "metadata": {},
   "outputs": [],
   "source": [
    "#Create a histogram with 'order_hour_of_day' using '.plot.hist()' function\n",
    "hist = df_final['order_hour_of_day'].plot.hist(bins = 100)\n",
    "plt.title('Busiest Hours of the Day', fontweight = 'bold')\n",
    "plt.xlabel('Hour of the day')"
   ]
  },
  {
   "cell_type": "code",
   "execution_count": null,
   "id": "a5861419",
   "metadata": {},
   "outputs": [],
   "source": [
    "#Defining df \n",
    "dfspend_hour = pd.crosstab(df_final['order_hour_of_day'], df_final['prices'].sum())"
   ]
  },
  {
   "cell_type": "code",
   "execution_count": null,
   "id": "f29e869f",
   "metadata": {},
   "outputs": [],
   "source": [
    "dfspend_hour.shape"
   ]
  },
  {
   "cell_type": "code",
   "execution_count": null,
   "id": "465e4e02",
   "metadata": {},
   "outputs": [],
   "source": [
    "dfspend_hour = pd.DataFrame(np.row_stack([dfspend_hour.columns, dfspend_hour.values]),\n",
    "    columns=['revenue'])"
   ]
  },
  {
   "cell_type": "code",
   "execution_count": null,
   "id": "3e95ae5f",
   "metadata": {},
   "outputs": [],
   "source": [
    "dfspend_hour.head()"
   ]
  },
  {
   "cell_type": "code",
   "execution_count": null,
   "id": "f78ee884",
   "metadata": {},
   "outputs": [],
   "source": [
    "dfspend_hour = dfspend_hour.reset_index()"
   ]
  },
  {
   "cell_type": "code",
   "execution_count": null,
   "id": "d45b2a37",
   "metadata": {},
   "outputs": [],
   "source": [
    "dfspend_hour.head()"
   ]
  },
  {
   "cell_type": "code",
   "execution_count": null,
   "id": "21338ffe",
   "metadata": {},
   "outputs": [],
   "source": [
    "dfspend_hour = dfspend_hour.rename(columns = {'index': 'hour'})"
   ]
  },
  {
   "cell_type": "code",
   "execution_count": null,
   "id": "12793c64",
   "metadata": {},
   "outputs": [],
   "source": [
    "dfspend_hour.drop(0, axis=0, inplace=True)\n"
   ]
  },
  {
   "cell_type": "code",
   "execution_count": null,
   "id": "211fa15c",
   "metadata": {},
   "outputs": [],
   "source": [
    "dfspend_hour"
   ]
  },
  {
   "cell_type": "code",
   "execution_count": null,
   "id": "7a92411c",
   "metadata": {},
   "outputs": [],
   "source": [
    "fig, ax = plt.subplots()\n",
    "ind = np.arange(len(dfspend_hour['hour']))\n",
    " \n",
    "ax.barh(ind, dfspend_hour['revenue'])\n",
    " \n",
    "for i, v in enumerate(dfspend_hour['revenue']):\n",
    "    ax.text(v, i, str(v))\n",
    "plt.rcParams['figure.figsize'] = [15, 10]\n",
    "plt.show()\n"
   ]
  },
  {
   "cell_type": "code",
   "execution_count": null,
   "id": "c8ed1364",
   "metadata": {},
   "outputs": [],
   "source": [
    "dfspend_hour.describe()"
   ]
  },
  {
   "cell_type": "code",
   "execution_count": null,
   "id": "63880b42",
   "metadata": {},
   "outputs": [],
   "source": [
    "summary_bar = dfspend_hour['revenue'].describe().plot.bar(title ='Revenue', rot=0)\n",
    "\n",
    "for i in summary_bar.patches:\n",
    "    plt.text(i.get_x() + 0.2, i.get_height()+ 200, \\\n",
    "             str(round((i.get_height()), 2)), fontsize=10, color='black', weight = 'bold')"
   ]
  },
  {
   "cell_type": "code",
   "execution_count": null,
   "id": "fd9784c5",
   "metadata": {},
   "outputs": [],
   "source": [
    "#Visual categorization Age groups.\n",
    "revenue_pie = dfspend_hour['revenue'].plot.pie(title ='Age Groups', autopct=('%1.f%%'))"
   ]
  },
  {
   "cell_type": "code",
   "execution_count": null,
   "id": "0395d063",
   "metadata": {},
   "outputs": [],
   "source": [
    "revenue_bar = dfspend_hour['revenue'].plot.bar(title ='Revenue', color= (0, 0, 1, 0.3), rot=9)\n",
    "plt.xticks(range(len(dfspend_hour)), dfspend_hour.index)\n",
    "for i in revenue_bar.patches:\n",
    "    plt.text(i.get_x() + 0.2, i.get_height()+ 200, \\\n",
    "             str(round((i.get_height()), 2)), fontsize=10, color='black')\n",
    "\n",
    "# show the plot\n",
    "plt.show()"
   ]
  },
  {
   "cell_type": "code",
   "execution_count": null,
   "id": "0c05bc39",
   "metadata": {},
   "outputs": [],
   "source": [
    "df_final.columns"
   ]
  },
  {
   "cell_type": "code",
   "execution_count": null,
   "id": "ee98b841",
   "metadata": {},
   "outputs": [],
   "source": [
    "#Check Data consistency\n",
    "df_final['region'].value_counts(dropna = False)"
   ]
  },
  {
   "cell_type": "code",
   "execution_count": null,
   "id": "38c703cc",
   "metadata": {},
   "outputs": [],
   "source": [
    "#Create df_region_spend using .crosstab() to select the necessary data.\n",
    "df_region_spend = pd.crosstab(df_final['region'], df_final['spender_flag'], dropna = False)"
   ]
  },
  {
   "cell_type": "code",
   "execution_count": null,
   "id": "4c0f8c77",
   "metadata": {},
   "outputs": [],
   "source": [
    "df_region_spend"
   ]
  },
  {
   "cell_type": "code",
   "execution_count": null,
   "id": "8520e8c0",
   "metadata": {},
   "outputs": [],
   "source": [
    "df_region_spend.describe()"
   ]
  },
  {
   "cell_type": "code",
   "execution_count": null,
   "id": "15579622",
   "metadata": {},
   "outputs": [],
   "source": [
    "#Creating 'exclusion_flag' based on customers order activity\n",
    "\n",
    "result = []\n",
    "\n",
    "for x in df_final['max_orders']:\n",
    "    if x < 5:\n",
    "        result.append('Low activity')\n",
    "    else:\n",
    "        result.append('High activity')\n",
    "\n",
    "df_final['exclusion_flag'] = result"
   ]
  },
  {
   "cell_type": "code",
   "execution_count": null,
   "id": "8cbfd551",
   "metadata": {},
   "outputs": [],
   "source": [
    "df_final['exclusion_flag'].value_counts()"
   ]
  },
  {
   "cell_type": "markdown",
   "id": "6698481a",
   "metadata": {},
   "source": [
    "# Creating a subset of high order customer"
   ]
  },
  {
   "cell_type": "code",
   "execution_count": null,
   "id": "c332d8c1",
   "metadata": {},
   "outputs": [],
   "source": [
    "df_high_act_profiles = df_final.drop(df_final[df_final.exclusion_flag == 'Low activity'].index)"
   ]
  },
  {
   "cell_type": "code",
   "execution_count": null,
   "id": "df9081c9",
   "metadata": {},
   "outputs": [],
   "source": [
    "df_high_act_profiles.shape"
   ]
  },
  {
   "cell_type": "code",
   "execution_count": null,
   "id": "a0a2634d",
   "metadata": {},
   "outputs": [],
   "source": [
    "#Export DataFrame with exclusion flag\n",
    "df_high_act_profiles.to_pickle(os.path.join(path_prepared, 'instacart_data_set_with_exclusion.pkl'))"
   ]
  },
  {
   "cell_type": "markdown",
   "id": "c550492b",
   "metadata": {},
   "source": [
    "## Profiling Customer in Database"
   ]
  },
  {
   "cell_type": "markdown",
   "id": "60ad8c32",
   "metadata": {},
   "source": [
    "### Age profiling"
   ]
  },
  {
   "cell_type": "code",
   "execution_count": null,
   "id": "46142aa7",
   "metadata": {},
   "outputs": [],
   "source": [
    "#Grouping customers by age using .quantile() as form of division\n",
    "\n",
    "q_1 = df_final.age.quantile(0.25)\n",
    "q_2 = df_final.age.quantile(0.50)\n",
    "q_3 = df_final.age.quantile(0.75)\n",
    "\n",
    "q_1, q_2, q_3 "
   ]
  },
  {
   "cell_type": "code",
   "execution_count": null,
   "id": "a7be96dd",
   "metadata": {},
   "outputs": [],
   "source": [
    "#Grouping customers usin 'for_in' and 'if else' functions\n",
    "young = []\n",
    "\n",
    "for x in df_final['age']:\n",
    "    if x <= q_1:\n",
    "        young.append('18-33')\n",
    "    elif x > q_1 and x <= q_2:\n",
    "        young.append('34-49')\n",
    "    elif x > q_2 and x <= q_3:\n",
    "        young.append('50-65')\n",
    "    elif x > q_3:\n",
    "        young.append('66+')\n",
    "    else:\n",
    "        young.append('Unkonwn')\n",
    "\n",
    "df_final['age_range'] = young\n",
    "\n",
    "df_final['age_range'].value_counts()"
   ]
  },
  {
   "cell_type": "code",
   "execution_count": null,
   "id": "29ee4894",
   "metadata": {},
   "outputs": [],
   "source": [
    "#Visual categorization Age groups.\n",
    "age_pie = df_final['age_range'].value_counts().plot.pie(title ='Age Groups', label = '', autopct=('%1.f%%'))"
   ]
  },
  {
   "cell_type": "markdown",
   "id": "16e51872",
   "metadata": {},
   "source": [
    "### Age-Region Crosstab for visualization"
   ]
  },
  {
   "cell_type": "code",
   "execution_count": null,
   "id": "4c518161",
   "metadata": {},
   "outputs": [],
   "source": [
    "#Defining df with age and region\n",
    "age_region = pd.crosstab(df_final['region'], df_final['age_range'])"
   ]
  },
  {
   "cell_type": "code",
   "execution_count": null,
   "id": "a93cc056",
   "metadata": {},
   "outputs": [],
   "source": [
    "barh_age_region = age_region.plot.barh(color = sns.color_palette('Oranges', 4))\n",
    "plt.title('Age group population by region', fontweight = 'bold')\n",
    "plt.xlabel('Frequency')"
   ]
  },
  {
   "cell_type": "code",
   "execution_count": null,
   "id": "3368b396",
   "metadata": {},
   "outputs": [],
   "source": [
    "#Age-region summary\n",
    "age_region.describe()"
   ]
  },
  {
   "cell_type": "markdown",
   "id": "02b50faf",
   "metadata": {},
   "source": [
    "### Import Department Data set"
   ]
  },
  {
   "cell_type": "code",
   "execution_count": null,
   "id": "77066401",
   "metadata": {},
   "outputs": [],
   "source": [
    "# Import Department Data set\n",
    "df_dept = pd.read_csv(os.path.join(path_prepared, 'departments_wrangled.csv'))"
   ]
  },
  {
   "cell_type": "code",
   "execution_count": null,
   "id": "16ac7400",
   "metadata": {},
   "outputs": [],
   "source": [
    "df_dept.head()"
   ]
  },
  {
   "cell_type": "code",
   "execution_count": null,
   "id": "b8f5dc34",
   "metadata": {},
   "outputs": [],
   "source": [
    "#Rename columns with a self-descriptive name\n",
    "df_dept.rename(columns = {'Unnamed: 0' : 'department_id'}, inplace = True)"
   ]
  },
  {
   "cell_type": "code",
   "execution_count": null,
   "id": "403e1407",
   "metadata": {},
   "outputs": [],
   "source": [
    "df_dept.head()"
   ]
  },
  {
   "cell_type": "markdown",
   "id": "c927cd33",
   "metadata": {},
   "source": [
    "### Merge Department Data set with the main Data set"
   ]
  },
  {
   "cell_type": "code",
   "execution_count": null,
   "id": "cb85df84",
   "metadata": {},
   "outputs": [],
   "source": [
    "#Using .merge() funtion to merge data sets\n",
    "df_final = df_final.merge(df_dept, on = 'department_id')"
   ]
  },
  {
   "cell_type": "code",
   "execution_count": null,
   "id": "f08892bf",
   "metadata": {
    "scrolled": true
   },
   "outputs": [],
   "source": [
    "df_final"
   ]
  },
  {
   "cell_type": "markdown",
   "id": "d2dd5d8b",
   "metadata": {},
   "source": [
    "### Price range and age range correlation"
   ]
  },
  {
   "cell_type": "code",
   "execution_count": null,
   "id": "2952afe4",
   "metadata": {},
   "outputs": [],
   "source": [
    "#Use .crosstab() funtion \n",
    "age_spenditure = pd.crosstab(df_final['price_range_loc'], df_final['age_range'])"
   ]
  },
  {
   "cell_type": "code",
   "execution_count": null,
   "id": "e526d14b",
   "metadata": {},
   "outputs": [],
   "source": [
    "age_spend = age_spenditure.plot.barh()\n",
    "plt.title('Spenditure by Age group', fontweight = 'bold')\n",
    "plt.xlabel('Frequency')\n",
    "plt.ylabel('Price Range')"
   ]
  },
  {
   "cell_type": "markdown",
   "id": "32f11401",
   "metadata": {},
   "source": [
    "### Department and age range correlation"
   ]
  },
  {
   "cell_type": "code",
   "execution_count": null,
   "id": "cdf177f8",
   "metadata": {},
   "outputs": [],
   "source": [
    "age_department = pd.crosstab(df_final['department'], df_final['age_range'])"
   ]
  },
  {
   "cell_type": "code",
   "execution_count": null,
   "id": "6b6367db",
   "metadata": {},
   "outputs": [],
   "source": [
    "plt.rcParams['figure.figsize'] = [15, 10]\n",
    "age_dept = age_department.plot.barh()\n",
    "plt.title('Sales by Department, Age group', fontweight = 'bold')\n",
    "plt.xlabel('Frequency')\n",
    "plt.ylabel('Department',fontweight = 'bold')"
   ]
  },
  {
   "cell_type": "markdown",
   "id": "99139607",
   "metadata": {},
   "source": [
    "### Orders day of the week and age range correlation"
   ]
  },
  {
   "cell_type": "code",
   "execution_count": null,
   "id": "53020b18",
   "metadata": {},
   "outputs": [],
   "source": [
    "age_day = pd.crosstab(df_final['orders_day_of_the_week'], df_final['age_range']).loc[['Monday', 'Tuesday', 'Wednesday', 'Thursday', 'Friday', 'Saturday', 'Sunday']]"
   ]
  },
  {
   "cell_type": "code",
   "execution_count": null,
   "id": "48fa90b2",
   "metadata": {},
   "outputs": [],
   "source": [
    "age_days = age_day.plot.barh()\n",
    "plt.title('Orders day of the week and Age Range', fontweight = 'bold')\n",
    "plt.xlabel('Frequency')\n",
    "plt.ylabel('Day of the week',fontweight = 'bold')"
   ]
  },
  {
   "cell_type": "markdown",
   "id": "fdfe2ee2",
   "metadata": {},
   "source": [
    "## Family Size Profiling"
   ]
  },
  {
   "cell_type": "markdown",
   "id": "8d2e6431",
   "metadata": {},
   "source": [
    "## Grouping Customers based on Number of dependents"
   ]
  },
  {
   "cell_type": "code",
   "execution_count": null,
   "id": "123e4ff5",
   "metadata": {},
   "outputs": [],
   "source": [
    "#Using 'for in' funtion\n",
    "parent = []\n",
    "\n",
    "for y in df_final['number_of_kids']:\n",
    "    \n",
    "    if y ==  0:\n",
    "        parent.append('Single adult')\n",
    "    elif y == 1:\n",
    "        parent.append('Reg family, 1 depnds')\n",
    "    elif y == 2:\n",
    "        parent.append('Reg family, 2 depnds')\n",
    "    else:\n",
    "        parent.append('Big family, 3+ depnds')\n",
    "\n",
    "df_final['Family_size'] = parent"
   ]
  },
  {
   "cell_type": "code",
   "execution_count": null,
   "id": "55aef2eb",
   "metadata": {
    "scrolled": true
   },
   "outputs": [],
   "source": [
    "#Count of customers based on family size\n",
    "df_final['Family_size'].value_counts()"
   ]
  },
  {
   "cell_type": "markdown",
   "id": "14c1e5d8",
   "metadata": {},
   "source": [
    "### Orders day of the week, age range, Family size comparison"
   ]
  },
  {
   "cell_type": "code",
   "execution_count": null,
   "id": "63280fcf",
   "metadata": {},
   "outputs": [],
   "source": [
    "age_cross = pd.crosstab(df_final['orders_day_of_the_week'], [df_final['Family_size'], df_final['age_range']]).loc[['Monday', 'Tuesday', 'Wednesday', 'Thursday', 'Friday', 'Saturday', 'Sunday']]"
   ]
  },
  {
   "cell_type": "code",
   "execution_count": null,
   "id": "cf91f71d",
   "metadata": {},
   "outputs": [],
   "source": [
    "plt.rcParams['figure.figsize'] = [20, 10]\n",
    "age_size_day = age_cross.plot.barh(color = sns.color_palette('Greens', 16))\n",
    "plt.title('Orders day of the week, age range, Family size', fontweight = 'bold')\n",
    "plt.xlabel('Frequency')\n",
    "plt.ylabel('Day of the week',fontweight = 'bold')"
   ]
  },
  {
   "cell_type": "markdown",
   "id": "50d8cbc5",
   "metadata": {},
   "source": [
    "### Orders Hour of the Day-Age range-Family size comparison"
   ]
  },
  {
   "cell_type": "code",
   "execution_count": null,
   "id": "6c999d3e",
   "metadata": {},
   "outputs": [],
   "source": [
    "size_age_hour = pd.crosstab(df_final['order_hour_of_day'], [df_final['Family_size'], df_final['age_range']])"
   ]
  },
  {
   "cell_type": "code",
   "execution_count": null,
   "id": "b12d2e8c",
   "metadata": {},
   "outputs": [],
   "source": [
    "plt.rcParams['figure.figsize'] = [20, 20]\n",
    "age_size_hour = size_age_hour.plot.barh(color = sns.color_palette('Greens', 16))\n",
    "plt.title('Orders Hour of the Day-Age range-Family size', fontweight = 'bold')\n",
    "plt.xlabel('Frequency')\n",
    "plt.ylabel('Hour of the Day',fontweight = 'bold')"
   ]
  },
  {
   "cell_type": "markdown",
   "id": "7ba0e4fc",
   "metadata": {},
   "source": [
    "### Sales comparison between Departments based on Family size "
   ]
  },
  {
   "cell_type": "code",
   "execution_count": null,
   "id": "5cf27b3a",
   "metadata": {},
   "outputs": [],
   "source": [
    "dept_size = pd.crosstab(df_final['department'], [df_final['Family_size']])"
   ]
  },
  {
   "cell_type": "code",
   "execution_count": null,
   "id": "cea99179",
   "metadata": {},
   "outputs": [],
   "source": [
    "plt.rcParams['figure.figsize'] = [20, 10]\n",
    "size_dept = dept_size.plot.barh(color = sns.color_palette('Reds', 16))\n",
    "plt.title('Sales comparison between Departments based on Family size', fontweight = 'bold')\n",
    "plt.xlabel('Frequency')\n",
    "plt.ylabel('Department',fontweight = 'bold')"
   ]
  },
  {
   "cell_type": "markdown",
   "id": "a9316076",
   "metadata": {},
   "source": [
    "### Sales Comparison Age ranges, Family Sizes based on Departments"
   ]
  },
  {
   "cell_type": "code",
   "execution_count": null,
   "id": "24433e2a",
   "metadata": {},
   "outputs": [],
   "source": [
    "plt.rcParams['figure.figsize'] = [10, 5]\n",
    "bars = pd.concat([age_department, dept_size]).describe().plot.bar(rot=0)\n",
    "plt.title('Sales summary Departments, Family size', fontweight = 'bold')\n",
    "plt.xlabel('Summary, MEAN, MAX,...')"
   ]
  },
  {
   "cell_type": "markdown",
   "id": "e50790c9",
   "metadata": {},
   "source": [
    "***Summary chart Age ranged & Family Sizes Comparison based on Departments***"
   ]
  },
  {
   "cell_type": "markdown",
   "id": "b29908e7",
   "metadata": {},
   "source": [
    "###  Sales Comparison between Regions based on Departments "
   ]
  },
  {
   "cell_type": "code",
   "execution_count": null,
   "id": "caf30200",
   "metadata": {},
   "outputs": [],
   "source": [
    "dept_region = pd.crosstab(df_final['department'], [df_final['region']])"
   ]
  },
  {
   "cell_type": "code",
   "execution_count": null,
   "id": "a3a2724e",
   "metadata": {},
   "outputs": [],
   "source": [
    "plt.rcParams['figure.figsize'] = [10, 10]\n",
    "region_dept = dept_region.plot.barh()\n",
    "plt.title('Sales within Departments by Region', fontweight = 'bold')\n",
    "plt.xlabel('Frequency')\n",
    "plt.ylabel('Department',fontweight = 'bold')\n"
   ]
  },
  {
   "cell_type": "markdown",
   "id": "6c563100",
   "metadata": {},
   "source": [
    "# Income Profiling"
   ]
  },
  {
   "cell_type": "code",
   "execution_count": null,
   "id": "b6b023cb",
   "metadata": {
    "scrolled": true
   },
   "outputs": [],
   "source": [
    "#Summary 'Income'\n",
    "df_final['income'].describe()\n"
   ]
  },
  {
   "cell_type": "markdown",
   "id": "e721c96d",
   "metadata": {},
   "source": [
    "## Grouping Customers based on their income"
   ]
  },
  {
   "cell_type": "code",
   "execution_count": null,
   "id": "8657a6b1",
   "metadata": {},
   "outputs": [],
   "source": [
    "#Grouping Customers based on Number of dependents\n",
    "#Using .quantile() funtions as reference for the division\n",
    "\n",
    "low = df_final.income.quantile(0.25)\n",
    "median = df_final.income.quantile(0.50)\n",
    "high = df_final.income.quantile(0.75)\n",
    "in_group = []\n",
    "\n",
    "for i in df_final['income']:\n",
    "    if i < low:\n",
    "        in_group.append('Low income')\n",
    "    elif i >= low and i < median:\n",
    "        in_group.append('Low-avg income')\n",
    "    elif i >= median and i < high:\n",
    "        in_group.append('High-avg income')\n",
    "    elif i >= high:\n",
    "        in_group.append('High income')\n",
    "    else:\n",
    "        in_group.append('Unknown')\n",
    "        "
   ]
  },
  {
   "cell_type": "code",
   "execution_count": null,
   "id": "901632e6",
   "metadata": {},
   "outputs": [],
   "source": [
    "#Creating income flag\n",
    "df_final['income_group'] = in_group"
   ]
  },
  {
   "cell_type": "code",
   "execution_count": null,
   "id": "ca5c2ec4",
   "metadata": {},
   "outputs": [],
   "source": [
    "df_final['income_group'].value_counts()"
   ]
  },
  {
   "cell_type": "markdown",
   "id": "809226f9",
   "metadata": {},
   "source": [
    "## Customers income group per Region"
   ]
  },
  {
   "cell_type": "code",
   "execution_count": null,
   "id": "71ec5a94",
   "metadata": {},
   "outputs": [],
   "source": [
    "#Use .crosstab() function \n",
    "income_region = pd.crosstab(df_final['region'], df_final['income_group'])"
   ]
  },
  {
   "cell_type": "code",
   "execution_count": null,
   "id": "ad97ae28",
   "metadata": {},
   "outputs": [],
   "source": [
    "region_income = income_region.plot.bar(color = sns.color_palette('Greens', 7), rot = 0)\n",
    "plt.rcParams['figure.figsize'] = [5, 5]\n",
    "plt.title('Customers income group per Region', fontweight = 'bold')\n",
    "plt.xlabel('Region')"
   ]
  },
  {
   "cell_type": "markdown",
   "id": "a150d14a",
   "metadata": {},
   "source": [
    "### Sales Comparison between regions based on Price range"
   ]
  },
  {
   "cell_type": "code",
   "execution_count": null,
   "id": "9e336f96",
   "metadata": {},
   "outputs": [],
   "source": [
    "region_prices = pd.crosstab(df_final['price_range_loc'], df_final['region'])"
   ]
  },
  {
   "cell_type": "code",
   "execution_count": null,
   "id": "e4958fb2",
   "metadata": {},
   "outputs": [],
   "source": [
    "price_region = region_prices.plot.bar(rot=0)\n",
    "plt.rcParams['figure.figsize'] = [15, 5]\n",
    "plt.title('Sales within Price range per region', fontweight = 'bold')\n",
    "plt.xlabel('Price Range')"
   ]
  },
  {
   "cell_type": "markdown",
   "id": "96d32ba6",
   "metadata": {},
   "source": [
    "### Sales Comparison between Income groups based on Price range"
   ]
  },
  {
   "cell_type": "code",
   "execution_count": null,
   "id": "e5980ba2",
   "metadata": {},
   "outputs": [],
   "source": [
    "income_prices = pd.crosstab(df_final['income_group'], df_final['price_range_loc'])"
   ]
  },
  {
   "cell_type": "code",
   "execution_count": null,
   "id": "a20f9430",
   "metadata": {
    "scrolled": true
   },
   "outputs": [],
   "source": [
    "inc = income_prices.plot.barh(color = sns.color_palette('magma', 7))\n",
    "plt.rcParams['figure.figsize'] = [15, 5]\n",
    "plt.title('Income groups orders per Price range', fontweight = 'bold')\n",
    "plt.xlabel('Frequency')\n",
    "plt.ylabel('')"
   ]
  },
  {
   "cell_type": "markdown",
   "id": "f2f4e5ef",
   "metadata": {},
   "source": [
    "***Mid-range-price products purshased has the highest sales in each customer group. The chart shows small purshases behabior in Low Income group, where they tend to buy Low_rage products vs other groups.***"
   ]
  },
  {
   "cell_type": "code",
   "execution_count": null,
   "id": "4254fbc9",
   "metadata": {},
   "outputs": [],
   "source": [
    "income_prices"
   ]
  },
  {
   "cell_type": "markdown",
   "id": "717f6693",
   "metadata": {},
   "source": [
    "### Correlation between income groups and Purshase frequency"
   ]
  },
  {
   "cell_type": "code",
   "execution_count": null,
   "id": "265b3ea5",
   "metadata": {},
   "outputs": [],
   "source": [
    "inc_activity = pd.crosstab(df_final['income_group'], df_final['frequency_flag']).loc[['Low income', 'Low-avg income', 'High-avg income', 'High income']]"
   ]
  },
  {
   "cell_type": "code",
   "execution_count": null,
   "id": "7533855d",
   "metadata": {},
   "outputs": [],
   "source": [
    "act_inc = inc_activity.plot.bar(rot = 0)\n",
    "plt.rcParams['figure.figsize'] = [15, 5]\n",
    "plt.title('Frequeny flag, Income groups', fontweight = 'bold')\n",
    "plt.ylabel('')"
   ]
  },
  {
   "cell_type": "code",
   "execution_count": null,
   "id": "d2f3f04f",
   "metadata": {},
   "outputs": [],
   "source": [
    "df_final.loc[(df_final['age'] <= 30) & (df_final['number_of_kids'] > 0), 'parent_group'] = 'Young parent'\n",
    "df_final.loc[(df_final['age'] > 30) & (df_final['number_of_kids'] > 0), 'parent_group'] = 'Regular parent'\n",
    "df_final.loc[(df_final['number_of_kids'] == 0), 'parent_group'] = 'Without dependents'"
   ]
  },
  {
   "cell_type": "code",
   "execution_count": null,
   "id": "5b885ad2",
   "metadata": {},
   "outputs": [],
   "source": [
    "df_final['parent_group'].value_counts()"
   ]
  },
  {
   "cell_type": "markdown",
   "id": "73f4e4a6",
   "metadata": {},
   "source": [
    "### Sales Comparison between Genders based on Departments"
   ]
  },
  {
   "cell_type": "code",
   "execution_count": null,
   "id": "8f57960e",
   "metadata": {},
   "outputs": [],
   "source": [
    "gender_spenditure = pd.crosstab(df_final['gender'], df_final['department'])"
   ]
  },
  {
   "cell_type": "code",
   "execution_count": null,
   "id": "0b2a17f8",
   "metadata": {},
   "outputs": [],
   "source": [
    "gen_spend = gender_spenditure.plot.bar(rot=0)\n",
    "plt.rcParams['figure.figsize'] = [5, 10]\n",
    "plt.title('Department by Gender', fontweight = 'bold')\n",
    "plt.xlabel('')\n",
    "plt.ylabel('')\n",
    "plt.legend(bbox_to_anchor=(1.05, 1), loc='upper left', borderaxespad=0)"
   ]
  },
  {
   "cell_type": "code",
   "execution_count": null,
   "id": "2269b92c",
   "metadata": {},
   "outputs": [],
   "source": [
    "df_final.columns, \"\", df_final.shape"
   ]
  },
  {
   "cell_type": "markdown",
   "id": "886c3d96",
   "metadata": {},
   "source": [
    "# Importing the visualizations"
   ]
  },
  {
   "cell_type": "markdown",
   "id": "1d82bb43",
   "metadata": {},
   "source": [
    "gen_spend.figure.savefig(os.path.join(path_visualizations, '4_10_bar_gen_spend.png'),dpi=300, bbox_inches = \"tight\")"
   ]
  },
  {
   "cell_type": "markdown",
   "id": "d03245e3",
   "metadata": {},
   "source": [
    "act_inc.figure.savefig(os.path.join(path_visualizations, '4_10_bar_act_inc.png'),dpi=300, bbox_inches = \"tight\")"
   ]
  },
  {
   "cell_type": "markdown",
   "id": "aed39787",
   "metadata": {},
   "source": [
    "inc.figure.savefig(os.path.join(path_visualizations, '4_10_bar_inc_prices.png'),dpi=300, bbox_inches = \"tight\")"
   ]
  },
  {
   "cell_type": "markdown",
   "id": "13115550",
   "metadata": {},
   "source": [
    "price_region.figure.savefig(os.path.join(path_visualizations, '4_10_bar_price_region.png'),dpi=300, bbox_inches = \"tight\")"
   ]
  },
  {
   "cell_type": "markdown",
   "id": "cfdf9808",
   "metadata": {},
   "source": [
    "region_income.figure.savefig(os.path.join(path_visualizations, '4_10_bar_region_income.png'),dpi=300, bbox_inches = \"tight\")"
   ]
  },
  {
   "cell_type": "markdown",
   "id": "505765ec",
   "metadata": {},
   "source": [
    "region_dept.figure.savefig(os.path.join(path_visualizations, '4_10_bar_region_dept.png'),dpi=300, bbox_inches = \"tight\")"
   ]
  },
  {
   "cell_type": "markdown",
   "id": "d8eb1b00",
   "metadata": {},
   "source": [
    "bars.figure.savefig(os.path.join(path_visualizations, '4_10_bar_summary.png'),dpi=300, bbox_inches = \"tight\")\n",
    "\n",
    "size_dept.figure.savefig(os.path.join(path_visualizations, '4_10_bar_family_size_dept.png'),dpi=300, bbox_inches = \"tight\")"
   ]
  },
  {
   "cell_type": "markdown",
   "id": "aefd0606",
   "metadata": {},
   "source": [
    "age_size_hour.figure.savefig(os.path.join(path_visualizations, '4_10_bar_age_family_size_hour.png'),dpi=300, bbox_inches = \"tight\")"
   ]
  },
  {
   "cell_type": "markdown",
   "id": "df9e8c4b",
   "metadata": {},
   "source": [
    "age_size_day.figure.savefig(os.path.join(path_visualizations, '4_10_bar_age_family_size_day.png'),dpi=300, bbox_inches = \"tight\")"
   ]
  },
  {
   "cell_type": "markdown",
   "id": "91571d72",
   "metadata": {},
   "source": [
    "age_days.figure.savefig(os.path.join(path_visualizations, '4_10_bar_age_days.png'),dpi=300, bbox_inches = \"tight\")"
   ]
  },
  {
   "cell_type": "markdown",
   "id": "0a8d47d2",
   "metadata": {},
   "source": [
    "age_dept.figure.savefig(os.path.join(path_visualizations, '4_10_bar_age_dept.png'),dpi=300, bbox_inches = \"tight\")"
   ]
  },
  {
   "cell_type": "markdown",
   "id": "60360f79",
   "metadata": {},
   "source": [
    "age_spend.figure.savefig(os.path.join(path_visualizations, '4_10_bar_age_price_range.png'),dpi=300, bbox_inches = \"tight\")"
   ]
  },
  {
   "cell_type": "markdown",
   "id": "5356fb04",
   "metadata": {},
   "source": [
    "barh_age_region.figure.savefig(os.path.join(path_visualizations, '4_10_bar_age_region.png'),dpi=300, bbox_inches = \"tight\")"
   ]
  },
  {
   "cell_type": "markdown",
   "id": "feb6a1c3",
   "metadata": {},
   "source": [
    "age_pie.figure.savefig(os.path.join(path_visualizations, '4_10_age_pie.png'),dpi=300, bbox_inches = \"tight\")"
   ]
  },
  {
   "cell_type": "markdown",
   "id": "ca1c3c50",
   "metadata": {},
   "source": []
  },
  {
   "cell_type": "code",
   "execution_count": null,
   "id": "1a2242d9",
   "metadata": {},
   "outputs": [],
   "source": [
    "timer = (time.time() - start_time)/60\n",
    "print(timer)"
   ]
  }
 ],
 "metadata": {
  "kernelspec": {
   "display_name": "Python 3 (ipykernel)",
   "language": "python",
   "name": "python3"
  },
  "language_info": {
   "codemirror_mode": {
    "name": "ipython",
    "version": 3
   },
   "file_extension": ".py",
   "mimetype": "text/x-python",
   "name": "python",
   "nbconvert_exporter": "python",
   "pygments_lexer": "ipython3",
   "version": "3.9.12"
  }
 },
 "nbformat": 4,
 "nbformat_minor": 5
}

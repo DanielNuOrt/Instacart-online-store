{
 "cells": [
  {
   "cell_type": "markdown",
   "id": "378545ab",
   "metadata": {},
   "source": [
    "### 1. Import Libraries"
   ]
  },
  {
   "cell_type": "code",
   "execution_count": 1,
   "id": "2f148eb4",
   "metadata": {},
   "outputs": [],
   "source": [
    "import pandas as pd\n",
    "import numpy as np\n",
    "import os\n",
    "import matplotlib.pyplot as plt\n",
    "import seaborn as sns\n",
    "import scipy\n",
    "import time\n",
    "\n",
    "start_time = time.time()"
   ]
  },
  {
   "cell_type": "markdown",
   "id": "ab4dbe01",
   "metadata": {},
   "source": [
    "### 2. Create paths to folders"
   ]
  },
  {
   "cell_type": "code",
   "execution_count": 2,
   "id": "18397105",
   "metadata": {},
   "outputs": [],
   "source": [
    "# Create path to Prepared data folder\n",
    "path_prepared = r'C:\\Users\\danie\\Desktop\\career Foundry\\31-03-2023 Instacart Basket Analysis\\02 Data\\Prepared data'"
   ]
  },
  {
   "cell_type": "code",
   "execution_count": 3,
   "id": "41d491ee",
   "metadata": {},
   "outputs": [],
   "source": [
    "# Create path to 'Visualizations' folder\n",
    "path_visualizations = r'C:\\Users\\danie\\Desktop\\career Foundry\\31-03-2023 Instacart Basket Analysis\\04 Analysis\\Visualizations'"
   ]
  },
  {
   "cell_type": "code",
   "execution_count": 4,
   "id": "61a5442a",
   "metadata": {},
   "outputs": [],
   "source": [
    "# Create path to Original data folder\n",
    "path_original = r'C:\\Users\\danie\\Desktop\\career Foundry\\31-03-2023 Instacart Basket Analysis\\02 Data\\Original data'"
   ]
  },
  {
   "cell_type": "markdown",
   "id": "ab5b4b6e",
   "metadata": {},
   "source": [
    "### 3. Import Customer Data"
   ]
  },
  {
   "cell_type": "code",
   "execution_count": 5,
   "id": "4d7d8882",
   "metadata": {},
   "outputs": [],
   "source": [
    "# Import .csv file\n",
    "df_customer = pd.read_csv(os.path.join(path_original, 'customers.csv'))"
   ]
  },
  {
   "cell_type": "code",
   "execution_count": 6,
   "id": "a2e9fcab",
   "metadata": {},
   "outputs": [
    {
     "data": {
      "text/html": [
       "<div>\n",
       "<style scoped>\n",
       "    .dataframe tbody tr th:only-of-type {\n",
       "        vertical-align: middle;\n",
       "    }\n",
       "\n",
       "    .dataframe tbody tr th {\n",
       "        vertical-align: top;\n",
       "    }\n",
       "\n",
       "    .dataframe thead th {\n",
       "        text-align: right;\n",
       "    }\n",
       "</style>\n",
       "<table border=\"1\" class=\"dataframe\">\n",
       "  <thead>\n",
       "    <tr style=\"text-align: right;\">\n",
       "      <th></th>\n",
       "      <th>user_id</th>\n",
       "      <th>First Name</th>\n",
       "      <th>Surnam</th>\n",
       "      <th>Gender</th>\n",
       "      <th>STATE</th>\n",
       "      <th>Age</th>\n",
       "      <th>date_joined</th>\n",
       "      <th>n_dependants</th>\n",
       "      <th>fam_status</th>\n",
       "      <th>income</th>\n",
       "    </tr>\n",
       "  </thead>\n",
       "  <tbody>\n",
       "    <tr>\n",
       "      <th>0</th>\n",
       "      <td>26711</td>\n",
       "      <td>Deborah</td>\n",
       "      <td>Esquivel</td>\n",
       "      <td>Female</td>\n",
       "      <td>Missouri</td>\n",
       "      <td>48</td>\n",
       "      <td>1/1/2017</td>\n",
       "      <td>3</td>\n",
       "      <td>married</td>\n",
       "      <td>165665</td>\n",
       "    </tr>\n",
       "    <tr>\n",
       "      <th>1</th>\n",
       "      <td>33890</td>\n",
       "      <td>Patricia</td>\n",
       "      <td>Hart</td>\n",
       "      <td>Female</td>\n",
       "      <td>New Mexico</td>\n",
       "      <td>36</td>\n",
       "      <td>1/1/2017</td>\n",
       "      <td>0</td>\n",
       "      <td>single</td>\n",
       "      <td>59285</td>\n",
       "    </tr>\n",
       "    <tr>\n",
       "      <th>2</th>\n",
       "      <td>65803</td>\n",
       "      <td>Kenneth</td>\n",
       "      <td>Farley</td>\n",
       "      <td>Male</td>\n",
       "      <td>Idaho</td>\n",
       "      <td>35</td>\n",
       "      <td>1/1/2017</td>\n",
       "      <td>2</td>\n",
       "      <td>married</td>\n",
       "      <td>99568</td>\n",
       "    </tr>\n",
       "    <tr>\n",
       "      <th>3</th>\n",
       "      <td>125935</td>\n",
       "      <td>Michelle</td>\n",
       "      <td>Hicks</td>\n",
       "      <td>Female</td>\n",
       "      <td>Iowa</td>\n",
       "      <td>40</td>\n",
       "      <td>1/1/2017</td>\n",
       "      <td>0</td>\n",
       "      <td>single</td>\n",
       "      <td>42049</td>\n",
       "    </tr>\n",
       "    <tr>\n",
       "      <th>4</th>\n",
       "      <td>130797</td>\n",
       "      <td>Ann</td>\n",
       "      <td>Gilmore</td>\n",
       "      <td>Female</td>\n",
       "      <td>Maryland</td>\n",
       "      <td>26</td>\n",
       "      <td>1/1/2017</td>\n",
       "      <td>1</td>\n",
       "      <td>married</td>\n",
       "      <td>40374</td>\n",
       "    </tr>\n",
       "  </tbody>\n",
       "</table>\n",
       "</div>"
      ],
      "text/plain": [
       "   user_id First Name    Surnam  Gender       STATE  Age date_joined  \\\n",
       "0    26711    Deborah  Esquivel  Female    Missouri   48    1/1/2017   \n",
       "1    33890   Patricia      Hart  Female  New Mexico   36    1/1/2017   \n",
       "2    65803    Kenneth    Farley    Male       Idaho   35    1/1/2017   \n",
       "3   125935   Michelle     Hicks  Female        Iowa   40    1/1/2017   \n",
       "4   130797        Ann   Gilmore  Female    Maryland   26    1/1/2017   \n",
       "\n",
       "   n_dependants fam_status  income  \n",
       "0             3    married  165665  \n",
       "1             0     single   59285  \n",
       "2             2    married   99568  \n",
       "3             0     single   42049  \n",
       "4             1    married   40374  "
      ]
     },
     "execution_count": 6,
     "metadata": {},
     "output_type": "execute_result"
    }
   ],
   "source": [
    "df_customer.head()"
   ]
  },
  {
   "cell_type": "code",
   "execution_count": 7,
   "id": "16b4b7d6",
   "metadata": {},
   "outputs": [
    {
     "data": {
      "text/plain": [
       "(206209, 10)"
      ]
     },
     "execution_count": 7,
     "metadata": {},
     "output_type": "execute_result"
    }
   ],
   "source": [
    "df_customer.shape"
   ]
  },
  {
   "cell_type": "markdown",
   "id": "57d2a733",
   "metadata": {},
   "source": [
    "### 4. Wrangle the data"
   ]
  },
  {
   "cell_type": "markdown",
   "id": "e1802d51",
   "metadata": {},
   "source": [
    "#### Rename the columns"
   ]
  },
  {
   "cell_type": "code",
   "execution_count": 8,
   "id": "69a6615a",
   "metadata": {},
   "outputs": [],
   "source": [
    "#Reformating the columns using '.str.lower()'\n",
    "df_customer.columns = df_customer.columns.str.lower()"
   ]
  },
  {
   "cell_type": "code",
   "execution_count": 9,
   "id": "8ba1a5a5",
   "metadata": {},
   "outputs": [],
   "source": [
    "#Renaming columns into self-descriptive and suitable terms\n",
    "df_customer.rename(columns = {'first name' : 'first_name', 'n_dependants' : 'number_of_kids', 'surnam' : 'surname', 'fam_status' : 'family_status'}, inplace = True)"
   ]
  },
  {
   "cell_type": "markdown",
   "id": "c7ba79bb",
   "metadata": {},
   "source": [
    "## 5. Data quality and consistency check"
   ]
  },
  {
   "cell_type": "code",
   "execution_count": 10,
   "id": "33b49b1b",
   "metadata": {},
   "outputs": [
    {
     "data": {
      "text/plain": [
       "user_id               0\n",
       "first_name        11259\n",
       "surname               0\n",
       "gender                0\n",
       "state                 0\n",
       "age                   0\n",
       "date_joined           0\n",
       "number_of_kids        0\n",
       "family_status         0\n",
       "income                0\n",
       "dtype: int64"
      ]
     },
     "execution_count": 10,
     "metadata": {},
     "output_type": "execute_result"
    }
   ],
   "source": [
    "# Find missing values\n",
    "df_customer.isnull().sum()"
   ]
  },
  {
   "cell_type": "markdown",
   "id": "f06603d9",
   "metadata": {},
   "source": [
    "***NULL values found in 'first_name' column. It doesn't influence our analysis.***"
   ]
  },
  {
   "cell_type": "code",
   "execution_count": 11,
   "id": "3c0d99be",
   "metadata": {},
   "outputs": [],
   "source": [
    "#Looking for full duplicates in a dataframe\n",
    "df_dups = df_customer[df_customer.duplicated()]"
   ]
  },
  {
   "cell_type": "code",
   "execution_count": 12,
   "id": "1cf3b7a5",
   "metadata": {},
   "outputs": [
    {
     "data": {
      "text/html": [
       "<div>\n",
       "<style scoped>\n",
       "    .dataframe tbody tr th:only-of-type {\n",
       "        vertical-align: middle;\n",
       "    }\n",
       "\n",
       "    .dataframe tbody tr th {\n",
       "        vertical-align: top;\n",
       "    }\n",
       "\n",
       "    .dataframe thead th {\n",
       "        text-align: right;\n",
       "    }\n",
       "</style>\n",
       "<table border=\"1\" class=\"dataframe\">\n",
       "  <thead>\n",
       "    <tr style=\"text-align: right;\">\n",
       "      <th></th>\n",
       "      <th>user_id</th>\n",
       "      <th>first_name</th>\n",
       "      <th>surname</th>\n",
       "      <th>gender</th>\n",
       "      <th>state</th>\n",
       "      <th>age</th>\n",
       "      <th>date_joined</th>\n",
       "      <th>number_of_kids</th>\n",
       "      <th>family_status</th>\n",
       "      <th>income</th>\n",
       "    </tr>\n",
       "  </thead>\n",
       "  <tbody>\n",
       "  </tbody>\n",
       "</table>\n",
       "</div>"
      ],
      "text/plain": [
       "Empty DataFrame\n",
       "Columns: [user_id, first_name, surname, gender, state, age, date_joined, number_of_kids, family_status, income]\n",
       "Index: []"
      ]
     },
     "execution_count": 12,
     "metadata": {},
     "output_type": "execute_result"
    }
   ],
   "source": [
    "df_dups"
   ]
  },
  {
   "cell_type": "markdown",
   "id": "9076610b",
   "metadata": {},
   "source": [
    "***No full duplicates found in our data set***"
   ]
  },
  {
   "cell_type": "code",
   "execution_count": 13,
   "id": "60e35806",
   "metadata": {},
   "outputs": [
    {
     "data": {
      "text/html": [
       "<div>\n",
       "<style scoped>\n",
       "    .dataframe tbody tr th:only-of-type {\n",
       "        vertical-align: middle;\n",
       "    }\n",
       "\n",
       "    .dataframe tbody tr th {\n",
       "        vertical-align: top;\n",
       "    }\n",
       "\n",
       "    .dataframe thead th {\n",
       "        text-align: right;\n",
       "    }\n",
       "</style>\n",
       "<table border=\"1\" class=\"dataframe\">\n",
       "  <thead>\n",
       "    <tr style=\"text-align: right;\">\n",
       "      <th></th>\n",
       "      <th>user_id</th>\n",
       "      <th>age</th>\n",
       "      <th>number_of_kids</th>\n",
       "      <th>income</th>\n",
       "    </tr>\n",
       "  </thead>\n",
       "  <tbody>\n",
       "    <tr>\n",
       "      <th>count</th>\n",
       "      <td>206209.000000</td>\n",
       "      <td>206209.000000</td>\n",
       "      <td>206209.000000</td>\n",
       "      <td>206209.000000</td>\n",
       "    </tr>\n",
       "    <tr>\n",
       "      <th>mean</th>\n",
       "      <td>103105.000000</td>\n",
       "      <td>49.501646</td>\n",
       "      <td>1.499823</td>\n",
       "      <td>94632.852548</td>\n",
       "    </tr>\n",
       "    <tr>\n",
       "      <th>std</th>\n",
       "      <td>59527.555167</td>\n",
       "      <td>18.480962</td>\n",
       "      <td>1.118433</td>\n",
       "      <td>42473.786988</td>\n",
       "    </tr>\n",
       "    <tr>\n",
       "      <th>min</th>\n",
       "      <td>1.000000</td>\n",
       "      <td>18.000000</td>\n",
       "      <td>0.000000</td>\n",
       "      <td>25903.000000</td>\n",
       "    </tr>\n",
       "    <tr>\n",
       "      <th>25%</th>\n",
       "      <td>51553.000000</td>\n",
       "      <td>33.000000</td>\n",
       "      <td>0.000000</td>\n",
       "      <td>59874.000000</td>\n",
       "    </tr>\n",
       "    <tr>\n",
       "      <th>50%</th>\n",
       "      <td>103105.000000</td>\n",
       "      <td>49.000000</td>\n",
       "      <td>1.000000</td>\n",
       "      <td>93547.000000</td>\n",
       "    </tr>\n",
       "    <tr>\n",
       "      <th>75%</th>\n",
       "      <td>154657.000000</td>\n",
       "      <td>66.000000</td>\n",
       "      <td>3.000000</td>\n",
       "      <td>124244.000000</td>\n",
       "    </tr>\n",
       "    <tr>\n",
       "      <th>max</th>\n",
       "      <td>206209.000000</td>\n",
       "      <td>81.000000</td>\n",
       "      <td>3.000000</td>\n",
       "      <td>593901.000000</td>\n",
       "    </tr>\n",
       "  </tbody>\n",
       "</table>\n",
       "</div>"
      ],
      "text/plain": [
       "             user_id            age  number_of_kids         income\n",
       "count  206209.000000  206209.000000   206209.000000  206209.000000\n",
       "mean   103105.000000      49.501646        1.499823   94632.852548\n",
       "std     59527.555167      18.480962        1.118433   42473.786988\n",
       "min         1.000000      18.000000        0.000000   25903.000000\n",
       "25%     51553.000000      33.000000        0.000000   59874.000000\n",
       "50%    103105.000000      49.000000        1.000000   93547.000000\n",
       "75%    154657.000000      66.000000        3.000000  124244.000000\n",
       "max    206209.000000      81.000000        3.000000  593901.000000"
      ]
     },
     "execution_count": 13,
     "metadata": {},
     "output_type": "execute_result"
    }
   ],
   "source": [
    "#Searching for odd values using '.describe()\n",
    "df_customer.describe()"
   ]
  },
  {
   "cell_type": "code",
   "execution_count": 14,
   "id": "c7163c93",
   "metadata": {},
   "outputs": [
    {
     "name": "stdout",
     "output_type": "stream",
     "text": [
      "first_name\n"
     ]
    }
   ],
   "source": [
    "#Check for mixed types in df_customer\n",
    "for col in df_customer.columns.tolist():\n",
    "  weird = (df_customer[[col]].applymap(type) != df_customer[[col]].iloc[0].apply(type)).any(axis = 1)\n",
    "  if len (df_customer[weird]) > 0:\n",
    "    print (col)"
   ]
  },
  {
   "cell_type": "markdown",
   "id": "ad99b921",
   "metadata": {},
   "source": [
    "***Mixed values found in column 'first_name'***"
   ]
  },
  {
   "cell_type": "code",
   "execution_count": 15,
   "id": "f83b68b6",
   "metadata": {},
   "outputs": [],
   "source": [
    "#Fix 'Mixed types' in column 'first_name' \n",
    "df_customer['first_name'] = df_customer['first_name'].astype('str')"
   ]
  },
  {
   "cell_type": "code",
   "execution_count": 16,
   "id": "b6f9d039",
   "metadata": {},
   "outputs": [],
   "source": [
    "#Check for mixed types in df_customer\n",
    "for col in df_customer.columns.tolist():\n",
    "  weird = (df_customer[[col]].applymap(type) != df_customer[[col]].iloc[0].apply(type)).any(axis = 1)\n",
    "  if len (df_customer[weird]) > 0:\n",
    "    print (col)"
   ]
  },
  {
   "cell_type": "markdown",
   "id": "0130f0d2",
   "metadata": {},
   "source": [
    "### 5. Import Data frame And Merge"
   ]
  },
  {
   "cell_type": "code",
   "execution_count": 17,
   "id": "9d7b36cf",
   "metadata": {},
   "outputs": [],
   "source": [
    "#Import orders_products_merged.pkl file for merge\n",
    "df_ords_prods = pd.read_pickle(os.path.join(path_prepared, 'orders_products_merged.pkl'))"
   ]
  },
  {
   "cell_type": "code",
   "execution_count": 18,
   "id": "0c14a9de",
   "metadata": {},
   "outputs": [],
   "source": [
    "#Merge df_ords_prods & df_customer\n",
    "df_completed_instacart = df_ords_prods.merge(df_customer, on = 'user_id', indicator = True)"
   ]
  },
  {
   "cell_type": "markdown",
   "id": "a2c78dba",
   "metadata": {},
   "source": [
    "### 6. Merged Data frame Integrity and Consistency check"
   ]
  },
  {
   "cell_type": "code",
   "execution_count": 19,
   "id": "bcca19e0",
   "metadata": {},
   "outputs": [
    {
     "data": {
      "text/plain": [
       "(32399732, 33)"
      ]
     },
     "execution_count": 19,
     "metadata": {},
     "output_type": "execute_result"
    }
   ],
   "source": [
    "df_completed_instacart.shape"
   ]
  },
  {
   "cell_type": "code",
   "execution_count": 20,
   "id": "80ea02e9",
   "metadata": {},
   "outputs": [
    {
     "data": {
      "text/plain": [
       "Index(['order_id', 'user_id', 'order_number', 'orders_day_of_the_week',\n",
       "       'order_hour_of_day', 'days_since_prior_order', 'product_id',\n",
       "       'add_to_cart_order', 'reordered', 'product_name', 'aisle_id',\n",
       "       'department_id', 'prices', 'price_range_loc', 'busiest_day',\n",
       "       'busiest_days', 'busiest_period_of_day', 'loyalty_flag', 'max_orders',\n",
       "       'average_spend', 'spender_flag', 'user_median', 'frequency_flag',\n",
       "       'first_name', 'surname', 'gender', 'state', 'age', 'date_joined',\n",
       "       'number_of_kids', 'family_status', 'income', '_merge'],\n",
       "      dtype='object')"
      ]
     },
     "execution_count": 20,
     "metadata": {},
     "output_type": "execute_result"
    }
   ],
   "source": [
    "df_completed_instacart.columns"
   ]
  },
  {
   "cell_type": "markdown",
   "id": "bade7d06",
   "metadata": {},
   "source": [
    "***Index follows a logical and self_descriptive format***"
   ]
  },
  {
   "cell_type": "code",
   "execution_count": 21,
   "id": "391a3523",
   "metadata": {},
   "outputs": [
    {
     "data": {
      "text/html": [
       "<div>\n",
       "<style scoped>\n",
       "    .dataframe tbody tr th:only-of-type {\n",
       "        vertical-align: middle;\n",
       "    }\n",
       "\n",
       "    .dataframe tbody tr th {\n",
       "        vertical-align: top;\n",
       "    }\n",
       "\n",
       "    .dataframe thead tr th {\n",
       "        text-align: left;\n",
       "    }\n",
       "\n",
       "    .dataframe thead tr:last-of-type th {\n",
       "        text-align: right;\n",
       "    }\n",
       "</style>\n",
       "<table border=\"1\" class=\"dataframe\">\n",
       "  <thead>\n",
       "    <tr>\n",
       "      <th></th>\n",
       "      <th>user_id</th>\n",
       "    </tr>\n",
       "    <tr>\n",
       "      <th></th>\n",
       "      <th>count</th>\n",
       "    </tr>\n",
       "    <tr>\n",
       "      <th>_merge</th>\n",
       "      <th></th>\n",
       "    </tr>\n",
       "  </thead>\n",
       "  <tbody>\n",
       "    <tr>\n",
       "      <th>left_only</th>\n",
       "      <td>0</td>\n",
       "    </tr>\n",
       "    <tr>\n",
       "      <th>right_only</th>\n",
       "      <td>0</td>\n",
       "    </tr>\n",
       "    <tr>\n",
       "      <th>both</th>\n",
       "      <td>32399732</td>\n",
       "    </tr>\n",
       "  </tbody>\n",
       "</table>\n",
       "</div>"
      ],
      "text/plain": [
       "             user_id\n",
       "               count\n",
       "_merge              \n",
       "left_only          0\n",
       "right_only         0\n",
       "both        32399732"
      ]
     },
     "execution_count": 21,
     "metadata": {},
     "output_type": "execute_result"
    }
   ],
   "source": [
    "#Merge check\n",
    "df_completed_instacart.groupby('_merge').agg({'user_id': ['count']})"
   ]
  },
  {
   "cell_type": "markdown",
   "id": "a99c5f19",
   "metadata": {},
   "source": [
    "***Complete merge between both Data sets***"
   ]
  },
  {
   "cell_type": "code",
   "execution_count": 22,
   "id": "3484474e",
   "metadata": {},
   "outputs": [],
   "source": [
    "#Check for mixed types in df_customer\n",
    "for col in df_completed_instacart.columns.tolist():\n",
    "  weird = (df_completed_instacart[[col]].applymap(type) != df_completed_instacart[[col]].iloc[0].apply(type)).any(axis = 1)\n",
    "  if len (df_completed_instacart[weird]) > 0:\n",
    "    print (col)"
   ]
  },
  {
   "cell_type": "markdown",
   "id": "82d60986",
   "metadata": {},
   "source": [
    "***No mixed data found within the same column in the new dataframe***"
   ]
  },
  {
   "cell_type": "code",
   "execution_count": 23,
   "id": "51d987fa",
   "metadata": {},
   "outputs": [
    {
     "data": {
      "text/plain": [
       "order_id                  0\n",
       "user_id                   0\n",
       "order_number              0\n",
       "orders_day_of_the_week    0\n",
       "order_hour_of_day         0\n",
       "days_since_prior_order    0\n",
       "product_id                0\n",
       "add_to_cart_order         0\n",
       "reordered                 0\n",
       "product_name              0\n",
       "aisle_id                  0\n",
       "department_id             0\n",
       "prices                    0\n",
       "price_range_loc           0\n",
       "busiest_day               0\n",
       "busiest_days              0\n",
       "busiest_period_of_day     0\n",
       "loyalty_flag              0\n",
       "max_orders                0\n",
       "average_spend             0\n",
       "spender_flag              0\n",
       "user_median               0\n",
       "frequency_flag            0\n",
       "first_name                0\n",
       "surname                   0\n",
       "gender                    0\n",
       "state                     0\n",
       "age                       0\n",
       "date_joined               0\n",
       "number_of_kids            0\n",
       "family_status             0\n",
       "income                    0\n",
       "_merge                    0\n",
       "dtype: int64"
      ]
     },
     "execution_count": 23,
     "metadata": {},
     "output_type": "execute_result"
    }
   ],
   "source": [
    "# Find missing values\n",
    "df_completed_instacart.isnull().sum()"
   ]
  },
  {
   "cell_type": "markdown",
   "id": "0e40434b",
   "metadata": {},
   "source": [
    "***'0' missing or NULL values found in df_complete_instacart Data set***"
   ]
  },
  {
   "cell_type": "code",
   "execution_count": 24,
   "id": "be0e9891",
   "metadata": {},
   "outputs": [],
   "source": [
    "df_completed_instacart.drop(columns = ['_merge'], inplace = True)"
   ]
  },
  {
   "cell_type": "markdown",
   "id": "948bf280",
   "metadata": {},
   "source": [
    "### 7. Export the new Data Frame"
   ]
  },
  {
   "cell_type": "code",
   "execution_count": 25,
   "id": "07f51b40",
   "metadata": {},
   "outputs": [],
   "source": [
    "#Data set 'instacart_data_set.pkl'\n",
    "df_completed_instacart.to_pickle(os.path.join(path_prepared, 'instacart_data_set.pkl'))"
   ]
  },
  {
   "cell_type": "code",
   "execution_count": 26,
   "id": "41c3969c",
   "metadata": {},
   "outputs": [
    {
     "name": "stdout",
     "output_type": "stream",
     "text": [
      "[210.27458453178406, ' seconds---']\n"
     ]
    }
   ],
   "source": [
    "print([time.time() - start_time, ' seconds---'])"
   ]
  }
 ],
 "metadata": {
  "kernelspec": {
   "display_name": "Python 3 (ipykernel)",
   "language": "python",
   "name": "python3"
  },
  "language_info": {
   "codemirror_mode": {
    "name": "ipython",
    "version": 3
   },
   "file_extension": ".py",
   "mimetype": "text/x-python",
   "name": "python",
   "nbconvert_exporter": "python",
   "pygments_lexer": "ipython3",
   "version": "3.9.12"
  }
 },
 "nbformat": 4,
 "nbformat_minor": 5
}

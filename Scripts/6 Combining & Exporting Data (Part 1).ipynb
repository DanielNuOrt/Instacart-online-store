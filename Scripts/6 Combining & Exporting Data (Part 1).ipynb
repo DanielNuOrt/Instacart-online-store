{
 "cells": [
  {
   "cell_type": "markdown",
   "id": "18f0c560",
   "metadata": {},
   "source": [
    "# 4.6: Combining & Exporting Data"
   ]
  },
  {
   "cell_type": "markdown",
   "id": "bcaa4109",
   "metadata": {},
   "source": [
    "### 01. Import libraries (pandas, Numpy, Os)"
   ]
  },
  {
   "cell_type": "code",
   "execution_count": 2,
   "id": "09b7949d",
   "metadata": {},
   "outputs": [],
   "source": [
    "#Import libraries\n",
    "import pandas as pd\n",
    "import numpy as np\n",
    "import os"
   ]
  },
  {
   "cell_type": "markdown",
   "id": "b805d4ea",
   "metadata": {},
   "source": [
    "### 02. Create paths to import & export the data."
   ]
  },
  {
   "cell_type": "code",
   "execution_count": 3,
   "id": "b5c1116d",
   "metadata": {},
   "outputs": [],
   "source": [
    "# Create path to Original data folder\n",
    "path_original = r'C:\\Users\\danie\\Desktop\\career Foundry\\31-03-2023 Instacart Basket Analysis\\02 Data\\Original data'"
   ]
  },
  {
   "cell_type": "code",
   "execution_count": 4,
   "id": "0d177967",
   "metadata": {},
   "outputs": [],
   "source": [
    "# Create path to Prepared data folder\n",
    "path_prepared = r'C:\\Users\\danie\\Desktop\\career Foundry\\31-03-2023 Instacart Basket Analysis\\02 Data\\Prepared data'"
   ]
  },
  {
   "cell_type": "markdown",
   "id": "a7bedaeb",
   "metadata": {},
   "source": [
    "### 03. Import DataFrames "
   ]
  },
  {
   "cell_type": "code",
   "execution_count": 5,
   "id": "7a59974a",
   "metadata": {},
   "outputs": [],
   "source": [
    "# Importing new data as 'df_ords_prior. Import data set 'df_ords', 'df_prods',\n",
    "df_ords_prior = pd.read_csv(os.path.join(path_original, 'order_products__prior.csv'))\n",
    "df_ords = pd.read_csv(os.path.join(path_prepared, 'orders_wrangled.csv'))\n",
    "df_prods = pd.read_csv(os.path.join(path_prepared, 'products_checked.csv'))"
   ]
  },
  {
   "cell_type": "markdown",
   "id": "2ee2d46c",
   "metadata": {},
   "source": [
    "### 04. Check DataFrame dimentions"
   ]
  },
  {
   "cell_type": "code",
   "execution_count": 6,
   "id": "c5d8b878",
   "metadata": {},
   "outputs": [
    {
     "data": {
      "text/html": [
       "<div>\n",
       "<style scoped>\n",
       "    .dataframe tbody tr th:only-of-type {\n",
       "        vertical-align: middle;\n",
       "    }\n",
       "\n",
       "    .dataframe tbody tr th {\n",
       "        vertical-align: top;\n",
       "    }\n",
       "\n",
       "    .dataframe thead th {\n",
       "        text-align: right;\n",
       "    }\n",
       "</style>\n",
       "<table border=\"1\" class=\"dataframe\">\n",
       "  <thead>\n",
       "    <tr style=\"text-align: right;\">\n",
       "      <th></th>\n",
       "      <th>order_id</th>\n",
       "      <th>product_id</th>\n",
       "      <th>add_to_cart_order</th>\n",
       "      <th>reordered</th>\n",
       "    </tr>\n",
       "  </thead>\n",
       "  <tbody>\n",
       "    <tr>\n",
       "      <th>0</th>\n",
       "      <td>2</td>\n",
       "      <td>33120</td>\n",
       "      <td>1</td>\n",
       "      <td>1</td>\n",
       "    </tr>\n",
       "    <tr>\n",
       "      <th>1</th>\n",
       "      <td>2</td>\n",
       "      <td>28985</td>\n",
       "      <td>2</td>\n",
       "      <td>1</td>\n",
       "    </tr>\n",
       "    <tr>\n",
       "      <th>2</th>\n",
       "      <td>2</td>\n",
       "      <td>9327</td>\n",
       "      <td>3</td>\n",
       "      <td>0</td>\n",
       "    </tr>\n",
       "    <tr>\n",
       "      <th>3</th>\n",
       "      <td>2</td>\n",
       "      <td>45918</td>\n",
       "      <td>4</td>\n",
       "      <td>1</td>\n",
       "    </tr>\n",
       "    <tr>\n",
       "      <th>4</th>\n",
       "      <td>2</td>\n",
       "      <td>30035</td>\n",
       "      <td>5</td>\n",
       "      <td>0</td>\n",
       "    </tr>\n",
       "  </tbody>\n",
       "</table>\n",
       "</div>"
      ],
      "text/plain": [
       "   order_id  product_id  add_to_cart_order  reordered\n",
       "0         2       33120                  1          1\n",
       "1         2       28985                  2          1\n",
       "2         2        9327                  3          0\n",
       "3         2       45918                  4          1\n",
       "4         2       30035                  5          0"
      ]
     },
     "execution_count": 6,
     "metadata": {},
     "output_type": "execute_result"
    }
   ],
   "source": [
    "# Check df_ords_prior '.head()'\n",
    "df_ords_prior.head()"
   ]
  },
  {
   "cell_type": "code",
   "execution_count": 7,
   "id": "2515e30b",
   "metadata": {},
   "outputs": [
    {
     "data": {
      "text/plain": [
       "(32434489, 4)"
      ]
     },
     "execution_count": 7,
     "metadata": {},
     "output_type": "execute_result"
    }
   ],
   "source": [
    "# Check df_ords_prior shape\n",
    "df_ords_prior.shape"
   ]
  },
  {
   "cell_type": "code",
   "execution_count": 8,
   "id": "12bce319",
   "metadata": {},
   "outputs": [
    {
     "data": {
      "text/plain": [
       "(3421083, 7)"
      ]
     },
     "execution_count": 8,
     "metadata": {},
     "output_type": "execute_result"
    }
   ],
   "source": [
    "# Check df_ords shape\n",
    "df_ords.shape"
   ]
  },
  {
   "cell_type": "markdown",
   "id": "f4f939d4",
   "metadata": {},
   "source": [
    "### 05. Merge df_ords_prior & df_ords"
   ]
  },
  {
   "cell_type": "code",
   "execution_count": 9,
   "id": "ef6be1b6",
   "metadata": {},
   "outputs": [],
   "source": [
    "# Merge df_ords with df_ords_prior\n",
    "df_merged_large = df_ords.merge(df_ords_prior, on = 'order_id', indicator = True)"
   ]
  },
  {
   "cell_type": "markdown",
   "id": "cb0c08d7",
   "metadata": {},
   "source": [
    "Dataframes 'df_ords' and 'df_ords_prior' are merged using the common column \"order_id\" and 'inner' join as default."
   ]
  },
  {
   "cell_type": "markdown",
   "id": "bc937a22",
   "metadata": {},
   "source": [
    "### 06. Check dimentions & Integrity of the new dataframe"
   ]
  },
  {
   "cell_type": "code",
   "execution_count": 10,
   "id": "59f196cd",
   "metadata": {},
   "outputs": [
    {
     "data": {
      "text/html": [
       "<div>\n",
       "<style scoped>\n",
       "    .dataframe tbody tr th:only-of-type {\n",
       "        vertical-align: middle;\n",
       "    }\n",
       "\n",
       "    .dataframe tbody tr th {\n",
       "        vertical-align: top;\n",
       "    }\n",
       "\n",
       "    .dataframe thead th {\n",
       "        text-align: right;\n",
       "    }\n",
       "</style>\n",
       "<table border=\"1\" class=\"dataframe\">\n",
       "  <thead>\n",
       "    <tr style=\"text-align: right;\">\n",
       "      <th></th>\n",
       "      <th>Unnamed: 0</th>\n",
       "      <th>order_id</th>\n",
       "      <th>user_id</th>\n",
       "      <th>order_number</th>\n",
       "      <th>orders_day_of_the_week</th>\n",
       "      <th>order_hour_of_day</th>\n",
       "      <th>days_since_prior_order</th>\n",
       "      <th>product_id</th>\n",
       "      <th>add_to_cart_order</th>\n",
       "      <th>reordered</th>\n",
       "      <th>_merge</th>\n",
       "    </tr>\n",
       "  </thead>\n",
       "  <tbody>\n",
       "    <tr>\n",
       "      <th>0</th>\n",
       "      <td>0</td>\n",
       "      <td>2539329</td>\n",
       "      <td>1</td>\n",
       "      <td>1</td>\n",
       "      <td>Monday</td>\n",
       "      <td>8</td>\n",
       "      <td>0.0</td>\n",
       "      <td>196</td>\n",
       "      <td>1</td>\n",
       "      <td>0</td>\n",
       "      <td>both</td>\n",
       "    </tr>\n",
       "    <tr>\n",
       "      <th>1</th>\n",
       "      <td>0</td>\n",
       "      <td>2539329</td>\n",
       "      <td>1</td>\n",
       "      <td>1</td>\n",
       "      <td>Monday</td>\n",
       "      <td>8</td>\n",
       "      <td>0.0</td>\n",
       "      <td>14084</td>\n",
       "      <td>2</td>\n",
       "      <td>0</td>\n",
       "      <td>both</td>\n",
       "    </tr>\n",
       "    <tr>\n",
       "      <th>2</th>\n",
       "      <td>0</td>\n",
       "      <td>2539329</td>\n",
       "      <td>1</td>\n",
       "      <td>1</td>\n",
       "      <td>Monday</td>\n",
       "      <td>8</td>\n",
       "      <td>0.0</td>\n",
       "      <td>12427</td>\n",
       "      <td>3</td>\n",
       "      <td>0</td>\n",
       "      <td>both</td>\n",
       "    </tr>\n",
       "    <tr>\n",
       "      <th>3</th>\n",
       "      <td>0</td>\n",
       "      <td>2539329</td>\n",
       "      <td>1</td>\n",
       "      <td>1</td>\n",
       "      <td>Monday</td>\n",
       "      <td>8</td>\n",
       "      <td>0.0</td>\n",
       "      <td>26088</td>\n",
       "      <td>4</td>\n",
       "      <td>0</td>\n",
       "      <td>both</td>\n",
       "    </tr>\n",
       "    <tr>\n",
       "      <th>4</th>\n",
       "      <td>0</td>\n",
       "      <td>2539329</td>\n",
       "      <td>1</td>\n",
       "      <td>1</td>\n",
       "      <td>Monday</td>\n",
       "      <td>8</td>\n",
       "      <td>0.0</td>\n",
       "      <td>26405</td>\n",
       "      <td>5</td>\n",
       "      <td>0</td>\n",
       "      <td>both</td>\n",
       "    </tr>\n",
       "  </tbody>\n",
       "</table>\n",
       "</div>"
      ],
      "text/plain": [
       "   Unnamed: 0  order_id  user_id  order_number orders_day_of_the_week  \\\n",
       "0           0   2539329        1             1                 Monday   \n",
       "1           0   2539329        1             1                 Monday   \n",
       "2           0   2539329        1             1                 Monday   \n",
       "3           0   2539329        1             1                 Monday   \n",
       "4           0   2539329        1             1                 Monday   \n",
       "\n",
       "   order_hour_of_day  days_since_prior_order  product_id  add_to_cart_order  \\\n",
       "0                  8                     0.0         196                  1   \n",
       "1                  8                     0.0       14084                  2   \n",
       "2                  8                     0.0       12427                  3   \n",
       "3                  8                     0.0       26088                  4   \n",
       "4                  8                     0.0       26405                  5   \n",
       "\n",
       "   reordered _merge  \n",
       "0          0   both  \n",
       "1          0   both  \n",
       "2          0   both  \n",
       "3          0   both  \n",
       "4          0   both  "
      ]
     },
     "execution_count": 10,
     "metadata": {},
     "output_type": "execute_result"
    }
   ],
   "source": [
    "# Check df_merged_large '.head()'\n",
    "df_merged_large.head()"
   ]
  },
  {
   "cell_type": "code",
   "execution_count": 11,
   "id": "2b1a873b",
   "metadata": {},
   "outputs": [
    {
     "data": {
      "text/plain": [
       "both          32434489\n",
       "left_only            0\n",
       "right_only           0\n",
       "Name: _merge, dtype: int64"
      ]
     },
     "execution_count": 11,
     "metadata": {},
     "output_type": "execute_result"
    }
   ],
   "source": [
    "# Check .value_count()\n",
    "df_merged_large['_merge'].value_counts()"
   ]
  },
  {
   "cell_type": "code",
   "execution_count": 12,
   "id": "f342ede5",
   "metadata": {},
   "outputs": [
    {
     "data": {
      "text/plain": [
       "(32434489, 11)"
      ]
     },
     "execution_count": 12,
     "metadata": {},
     "output_type": "execute_result"
    }
   ],
   "source": [
    "# Check shape of the new 'df'\n",
    "df_merged_large.shape"
   ]
  },
  {
   "cell_type": "markdown",
   "id": "b66e5ed1",
   "metadata": {},
   "source": [
    "### 07. Export 'df_merged_large' dataframe in 'Pickle' format (.pkl)"
   ]
  },
  {
   "cell_type": "code",
   "execution_count": 13,
   "id": "6d703833",
   "metadata": {},
   "outputs": [],
   "source": [
    "# Export merged dataframe in to pickle file (.pkl)\n",
    "df_merged_large.to_pickle(os.path.join(path_prepared, 'orders_products_combined.pkl'))"
   ]
  },
  {
   "cell_type": "code",
   "execution_count": 14,
   "id": "6c629e95",
   "metadata": {},
   "outputs": [
    {
     "data": {
      "text/plain": [
       "(32434489, 11)"
      ]
     },
     "execution_count": 14,
     "metadata": {},
     "output_type": "execute_result"
    }
   ],
   "source": [
    "df_merged_large.shape"
   ]
  },
  {
   "cell_type": "code",
   "execution_count": null,
   "id": "736e88a2",
   "metadata": {},
   "outputs": [],
   "source": []
  }
 ],
 "metadata": {
  "kernelspec": {
   "display_name": "Python 3 (ipykernel)",
   "language": "python",
   "name": "python3"
  },
  "language_info": {
   "codemirror_mode": {
    "name": "ipython",
    "version": 3
   },
   "file_extension": ".py",
   "mimetype": "text/x-python",
   "name": "python",
   "nbconvert_exporter": "python",
   "pygments_lexer": "ipython3",
   "version": "3.9.12"
  }
 },
 "nbformat": 4,
 "nbformat_minor": 5
}

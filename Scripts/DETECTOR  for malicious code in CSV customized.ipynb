{
 "cells": [
  {
   "cell_type": "code",
   "execution_count": 3,
   "id": "6387efcc",
   "metadata": {},
   "outputs": [],
   "source": [
    "#Import Libraries\n",
    "\n",
    "import pandas as pd\n",
    "import numpy as np\n",
    "import os\n",
    "import re"
   ]
  },
  {
   "cell_type": "markdown",
   "id": "7defad7d",
   "metadata": {},
   "source": [
    "**ADD PATH TO FILE HERE XXXXX**"
   ]
  },
  {
   "cell_type": "code",
   "execution_count": 6,
   "id": "ef5b85f6",
   "metadata": {},
   "outputs": [
    {
     "name": "stdout",
     "output_type": "stream",
     "text": [
      "No potentially malicious code detected in CSV file.\n"
     ]
    }
   ],
   "source": [
    "# This pattern matches common malicious code patterns such as shell commands, SQL injections, and JavaScript injections\n",
    "pattern = re.compile(r\"(?:;|&|\\|{1,2}|\\$\\(|`|eval\\(|assert\\(|system\\(|passthru\\(|popen\\(|exec\\(|request\\(|require\\(|include\\(|select\\s(?:.+\\s)?from|insert\\sinto|update.+set|delete\\sfrom|drop\\s(?:database|table))\", re.IGNORECASE)\n",
    "\n",
    "# Open the CSV file and read its contents\n",
    "with open(XXXXX) as file:\n",
    "    contents = file.read()\n",
    "\n",
    "# Search for the malicious code pattern in the CSV file contents\n",
    "matches = pattern.findall(contents)\n",
    "\n",
    "# If any matches are found, print a warning message\n",
    "if matches:\n",
    "    print(\"Warning: Potentially malicious code detected in CSV file!\")\n",
    "    for match in matches:\n",
    "        print(f\"Match found: {match}\")\n",
    "else:\n",
    "    print(\"No potentially malicious code detected in CSV file.\")"
   ]
  },
  {
   "cell_type": "markdown",
   "id": "1143d544",
   "metadata": {},
   "source": [
    "***This is only a experiment, do not solely relay on this script to detect malicious code***"
   ]
  }
 ],
 "metadata": {
  "kernelspec": {
   "display_name": "Python 3 (ipykernel)",
   "language": "python",
   "name": "python3"
  },
  "language_info": {
   "codemirror_mode": {
    "name": "ipython",
    "version": 3
   },
   "file_extension": ".py",
   "mimetype": "text/x-python",
   "name": "python",
   "nbconvert_exporter": "python",
   "pygments_lexer": "ipython3",
   "version": "3.9.12"
  }
 },
 "nbformat": 4,
 "nbformat_minor": 5
}

{
 "cells": [
  {
   "cell_type": "markdown",
   "id": "e01b16dc",
   "metadata": {},
   "source": [
    "# 01.Importing libraries"
   ]
  },
  {
   "cell_type": "code",
   "execution_count": 2,
   "id": "0fc591fe",
   "metadata": {},
   "outputs": [],
   "source": [
    "#Import libraries\n",
    "import pandas as pd\n",
    "import numpy as np\n",
    "import os"
   ]
  },
  {
   "cell_type": "markdown",
   "id": "e4885c83",
   "metadata": {},
   "source": [
    "# 02.Data Types"
   ]
  },
  {
   "cell_type": "code",
   "execution_count": 47,
   "id": "bad78e8d",
   "metadata": {},
   "outputs": [],
   "source": [
    "#integer\n",
    "x = 33\n",
    "y = 67"
   ]
  },
  {
   "cell_type": "code",
   "execution_count": 27,
   "id": "f051acd3",
   "metadata": {},
   "outputs": [
    {
     "data": {
      "text/plain": [
       "100"
      ]
     },
     "execution_count": 27,
     "metadata": {},
     "output_type": "execute_result"
    }
   ],
   "source": [
    "x + y"
   ]
  },
  {
   "cell_type": "code",
   "execution_count": 28,
   "id": "3eb6ca68",
   "metadata": {},
   "outputs": [
    {
     "data": {
      "text/plain": [
       "100"
      ]
     },
     "execution_count": 28,
     "metadata": {},
     "output_type": "execute_result"
    }
   ],
   "source": [
    "25 + 75"
   ]
  },
  {
   "cell_type": "code",
   "execution_count": 29,
   "id": "567a136e",
   "metadata": {},
   "outputs": [],
   "source": [
    "x = x + y"
   ]
  },
  {
   "cell_type": "code",
   "execution_count": 30,
   "id": "f6f2e8a3",
   "metadata": {},
   "outputs": [
    {
     "data": {
      "text/plain": [
       "100"
      ]
     },
     "execution_count": 30,
     "metadata": {},
     "output_type": "execute_result"
    }
   ],
   "source": [
    "x"
   ]
  },
  {
   "cell_type": "code",
   "execution_count": 46,
   "id": "844dc41b",
   "metadata": {},
   "outputs": [
    {
     "name": "stdout",
     "output_type": "stream",
     "text": [
      "0.5262260127931769\n"
     ]
    }
   ],
   "source": [
    "#Float\n",
    "a = 1.234\n",
    "b = 2.345\n",
    "c = a / b\n",
    "print(c)"
   ]
  },
  {
   "cell_type": "code",
   "execution_count": 48,
   "id": "2d1a8ab3",
   "metadata": {},
   "outputs": [
    {
     "name": "stdout",
     "output_type": "stream",
     "text": [
      "Daniel Nuñez Ortiz, future Data Analyst\n"
     ]
    }
   ],
   "source": [
    "#String\n",
    "d = 'Daniel '\n",
    "e = 'Nuñez '\n",
    "f = 'Ortiz, '\n",
    "g =  'future Data Analyst'\n",
    "h = d + e + f + g\n",
    "print(h)"
   ]
  },
  {
   "cell_type": "code",
   "execution_count": 38,
   "id": "6d1a3832",
   "metadata": {},
   "outputs": [
    {
     "name": "stdout",
     "output_type": "stream",
     "text": [
      "today  is  a  good  day  for  BBQ.\n",
      "Beef, pork or chicken?\n"
     ]
    }
   ],
   "source": [
    "a = 'today '\n",
    "b = 'is '\n",
    "c = 'a '\n",
    "d = 'good '\n",
    "e = 'day '\n",
    "f = 'for '\n",
    "g = 'BBQ.'\n",
    "print(a,b,c,d,e,f,g)\n",
    "a = 'Beef, '\n",
    "b = 'pork '\n",
    "c = 'or '\n",
    "d = 'chicken?'\n",
    "e = a + b + c + d\n",
    "print(e)"
   ]
  },
  {
   "cell_type": "code",
   "execution_count": 44,
   "id": "c9a66d62",
   "metadata": {},
   "outputs": [
    {
     "name": "stdout",
     "output_type": "stream",
     "text": [
      "I'm hungry now. I'm hungry now. I'm hungry now. I'm hungry now. I'm hungry now. I'm hungry now. I'm hungry now. I'm hungry now. I'm hungry now. I'm hungry now. I'm hungry now. I'm hungry now. I'm hungry now. I'm hungry now. I'm hungry now. I'm hungry now. I'm hungry now. I'm hungry now. I'm hungry now. I'm hungry now. I'm hungry now. I'm hungry now. I'm hungry now. I'm hungry now. I'm hungry now. I'm hungry now. I'm hungry now. I'm hungry now. I'm hungry now. I'm hungry now. I'm hungry now. I'm hungry now. I'm hungry now. I'm hungry now. I'm hungry now. I'm hungry now. I'm hungry now. I'm hungry now. I'm hungry now. I'm hungry now. I'm hungry now. I'm hungry now. I'm hungry now. I'm hungry now. I'm hungry now. I'm hungry now. I'm hungry now. I'm hungry now. I'm hungry now. I'm hungry now. I'm hungry now. I'm hungry now. I'm hungry now. I'm hungry now. I'm hungry now. I'm hungry now. I'm hungry now. I'm hungry now. I'm hungry now. I'm hungry now. I'm hungry now. I'm hungry now. I'm hungry now. I'm hungry now. I'm hungry now. I'm hungry now. I'm hungry now. I'm hungry now. I'm hungry now. I'm hungry now. I'm hungry now. I'm hungry now. I'm hungry now. I'm hungry now. I'm hungry now. I'm hungry now. I'm hungry now. I'm hungry now. I'm hungry now. I'm hungry now. I'm hungry now. I'm hungry now. I'm hungry now. I'm hungry now. I'm hungry now. I'm hungry now. I'm hungry now. I'm hungry now. I'm hungry now. I'm hungry now. I'm hungry now. I'm hungry now. I'm hungry now. I'm hungry now. I'm hungry now. I'm hungry now. I'm hungry now. I'm hungry now. I'm hungry now. I'm hungry now. \n"
     ]
    }
   ],
   "source": [
    "#Bonus task\n",
    "w = \"I'm \"\n",
    "t = \"hungry \"\n",
    "f = \"now. \"\n",
    "print((w + t + f) * 100)"
   ]
  }
 ],
 "metadata": {
  "kernelspec": {
   "display_name": "Python 3 (ipykernel)",
   "language": "python",
   "name": "python3"
  },
  "language_info": {
   "codemirror_mode": {
    "name": "ipython",
    "version": 3
   },
   "file_extension": ".py",
   "mimetype": "text/x-python",
   "name": "python",
   "nbconvert_exporter": "python",
   "pygments_lexer": "ipython3",
   "version": "3.9.12"
  }
 },
 "nbformat": 4,
 "nbformat_minor": 5
}
